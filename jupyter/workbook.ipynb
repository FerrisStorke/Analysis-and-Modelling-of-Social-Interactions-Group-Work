{
 "cells": [
  {
   "cell_type": "markdown",
   "metadata": {
    "id": "jmMh8eIoz0eY"
   },
   "source": [
    "# Project"
   ]
  },
  {
   "cell_type": "markdown",
   "metadata": {
    "id": "7qw9NNcTz0ec"
   },
   "source": [
    "# Package import and project setup"
   ]
  },
  {
   "cell_type": "code",
   "execution_count": null,
   "metadata": {
    "id": "T9fLZVChz0ed"
   },
   "outputs": [],
   "source": [
    "import pandas as pd\n",
    "import numpy as np\n",
    "import os\n",
    "import glob\n",
    "import networkx as nx\n",
    "import matplotlib.pyplot as plt\n",
    "import re"
   ]
  },
  {
   "cell_type": "code",
   "execution_count": null,
   "metadata": {
    "id": "eAqKOYdiz0ee"
   },
   "outputs": [],
   "source": [
    "pd.options.display.max_rows = 100\n",
    "pd.options.display.max_columns = 25"
   ]
  },
  {
   "cell_type": "markdown",
   "metadata": {
    "id": "PsfKVp1az0ef"
   },
   "source": [
    "Set working directory to home project directory. This will make the reading of files easier."
   ]
  },
  {
   "cell_type": "code",
   "execution_count": null,
   "metadata": {
    "id": "JmGOPvTqz0ef"
   },
   "outputs": [],
   "source": [
    "#WORK_DIR = os.path.abspath(os.path.join(\"..\"))\n",
    "#os.chdir(WORK_DIR)"
   ]
  },
  {
   "cell_type": "markdown",
   "metadata": {
    "id": "3f5m6ScPz0ef"
   },
   "source": [
    "Read all data files and concatenate them to one single DataFrame"
   ]
  },
  {
   "cell_type": "code",
   "execution_count": null,
   "metadata": {
    "id": "P2KC3Ms0z0eg"
   },
   "outputs": [],
   "source": [
    "df = pd.DataFrame()\n",
    "for file in glob.glob(\"../data/*/*.csv\"):\n",
    "    temp = pd.read_csv(file)\n",
    "    df = pd.concat([df, temp])"
   ]
  },
  {
   "cell_type": "code",
   "execution_count": null,
   "metadata": {},
   "outputs": [],
   "source": [
    "df.head(10)"
   ]
  },
  {
   "cell_type": "code",
   "execution_count": null,
   "metadata": {
    "id": "PyviBtFyz0eh"
   },
   "outputs": [],
   "source": [
    "# Reset index\n",
    "df.reset_index(drop=True, inplace=True)\n",
    "\n",
    "# Make copy of original DataFrame\n",
    "df_copy = df.copy()"
   ]
  },
  {
   "cell_type": "markdown",
   "metadata": {
    "id": "CcN8MYY6z0eh"
   },
   "source": [
    "# Inspect data"
   ]
  },
  {
   "cell_type": "code",
   "execution_count": null,
   "metadata": {
    "colab": {
     "base_uri": "https://localhost:8080/",
     "height": 109
    },
    "id": "_N21vnL7z0eh",
    "outputId": "73f3d857-7b0e-4f8c-d0fd-a967bf27a82b"
   },
   "outputs": [],
   "source": [
    "df.head(10)"
   ]
  },
  {
   "cell_type": "code",
   "execution_count": null,
   "metadata": {
    "colab": {
     "base_uri": "https://localhost:8080/"
    },
    "id": "5GWOb9zdz0ei",
    "outputId": "d3f61da5-d6ee-4dea-8ca9-023aa9f9e954"
   },
   "outputs": [],
   "source": [
    "df.info()"
   ]
  },
  {
   "cell_type": "code",
   "execution_count": null,
   "metadata": {
    "colab": {
     "base_uri": "https://localhost:8080/",
     "height": 297
    },
    "id": "HUEe_iMqz0ei",
    "outputId": "715f361b-6798-4b9b-c4e7-7f080c99accc"
   },
   "outputs": [],
   "source": [
    "df.describe().round(2)"
   ]
  },
  {
   "cell_type": "code",
   "execution_count": null,
   "metadata": {
    "colab": {
     "base_uri": "https://localhost:8080/"
    },
    "id": "biEQlchLz0ei",
    "outputId": "7d98f43c-fbc4-4549-cf4c-500bf2aea5e7"
   },
   "outputs": [],
   "source": [
    "df.isna().sum()"
   ]
  },
  {
   "cell_type": "markdown",
   "metadata": {
    "id": "FZd-hcYoz0ej"
   },
   "source": [
    "# Transform data\n",
    "First, we will apply some basic modification to our DataFrame by defining types for some columns."
   ]
  },
  {
   "cell_type": "code",
   "execution_count": null,
   "metadata": {
    "id": "7vkk-Qyzz0ej"
   },
   "outputs": [],
   "source": [
    "df[\"age\"] = df[\"age\"].astype(\"Int64\")"
   ]
  },
  {
   "cell_type": "markdown",
   "metadata": {},
   "source": [
    "## Rearrange incoming and outgoing club names\n",
    "In the current DataFrame there is no clear indication where the player came from or to which club he went to. It has to be read from the columns club_name, club_involved_name and transfer_movement. In order to create the base for our network, we need to normalize and transform the data to only having the club the player came from and the club he went to."
   ]
  },
  {
   "cell_type": "code",
   "execution_count": null,
   "metadata": {
    "id": "mQL5jj55z0ek"
   },
   "outputs": [],
   "source": [
    "def transform_transfers(row):\n",
    "    club_name = row[\"club_name\"]\n",
    "    club_involved_name = row[\"club_involved_name\"]\n",
    "    league = row[\"league_name\"]\n",
    "    movement = row[\"transfer_movement\"]\n",
    "    league_to = np.nan\n",
    "    league_from = np.nan\n",
    "    \n",
    "    if movement == \"in\":\n",
    "        club_from = club_involved_name\n",
    "        club_to = club_name\n",
    "        league_to = league\n",
    "    elif movement == \"out\":\n",
    "        club_from = club_name\n",
    "        club_to = club_involved_name\n",
    "        league_from = league\n",
    "    else:\n",
    "        print(\"Movement '{}' not defined\".format(movement))\n",
    "    return club_from, club_to, league_from, league_to"
   ]
  },
  {
   "cell_type": "code",
   "execution_count": null,
   "metadata": {
    "id": "rqDV3EeTz0ek"
   },
   "outputs": [],
   "source": [
    "df[[\"club_from\", \"club_to\", \"league_from\", \"league_to\"]] = df.apply(lambda x: transform_transfers(x), axis=1, result_type=\"expand\")\n",
    "df.drop(columns=[\"club_name\", \"club_involved_name\", \"transfer_movement\", \"league_name\"], inplace=True)"
   ]
  },
  {
   "cell_type": "markdown",
   "metadata": {
    "id": "l99ciKeLz0el"
   },
   "source": [
    "We took Cristiano Ronaldo as an example to check whether the data needs some more processing. As we can see in the data below, some data points are duplicated. Unfortunately, the data can not just be dropped and needs to be cleaned first. Once the data is cleaned we can then drop duplicates by subset."
   ]
  },
  {
   "cell_type": "code",
   "execution_count": null,
   "metadata": {
    "colab": {
     "base_uri": "https://localhost:8080/",
     "height": 545
    },
    "id": "PIhUowBkz0el",
    "outputId": "521abf7e-f9dd-44bf-9118-d3951867b40b"
   },
   "outputs": [],
   "source": [
    "df.loc[df[\"player_name\"] == \"Cristiano Ronaldo\"].sort_values(by=\"year\")"
   ]
  },
  {
   "cell_type": "markdown",
   "metadata": {},
   "source": [
    "## Uniform club names"
   ]
  },
  {
   "cell_type": "markdown",
   "metadata": {
    "id": "JKm8UbpEz0el"
   },
   "source": [
    "The above mentioned problem causes also that missing league names can not be enriched."
   ]
  },
  {
   "cell_type": "code",
   "execution_count": null,
   "metadata": {
    "colab": {
     "base_uri": "https://localhost:8080/",
     "height": 358
    },
    "id": "hpQC95ULz0el",
    "outputId": "a4abff44-9005-43da-83c2-f4a4ce1f0ca7"
   },
   "outputs": [],
   "source": [
    "df_temp = df_copy[[\"club_name\", \"league_name\"]].drop_duplicates()\n",
    "df_temp.shape\n",
    "club_to_league = dict(zip(df_temp[\"club_name\"], df_temp[\"league_name\"]))"
   ]
  },
  {
   "cell_type": "markdown",
   "metadata": {
    "id": "d1GyA2ctz0em"
   },
   "source": [
    "As a last cleaning step we need to drop all remaining duplicates from the data set. A transfer is unique over player name, fee and season."
   ]
  },
  {
   "cell_type": "code",
   "execution_count": null,
   "metadata": {
    "colab": {
     "base_uri": "https://localhost:8080/"
    },
    "id": "paIE8BJ_z0em",
    "outputId": "ff21d92e-50c9-4de6-d40c-8125912fe0c5"
   },
   "outputs": [],
   "source": [
    "df_copy.duplicated(subset=[\"player_name\", \"fee_cleaned\", \"season\"]).sum()"
   ]
  },
  {
   "cell_type": "markdown",
   "metadata": {
    "id": "Pe8HIKJAz0em"
   },
   "source": [
    "### Youth club names\n",
    "Uniforming all youth clubs and delete the appendix from fromer existing clubs."
   ]
  },
  {
   "cell_type": "code",
   "execution_count": null,
   "metadata": {
    "id": "ZugzAjkhz0em"
   },
   "outputs": [],
   "source": [
    "replacements_youth=['U16','U17','U18','U19','U20','U21','U22','U23','Res.','Reserves','II','Primaver','Yth.', 'Prom', 'Jgd', 'Youth', 'youthrves', '/RKC-19', 'Acad.']\n",
    "for i in replacements_youth:\n",
    "    df['club_to'] = df['club_to'].str.replace(str(i),'youth', regex=True)\n",
    "    df['club_from'] = df['club_from'].str.replace(str(i),'youth', regex=True)\n",
    "\n",
    "replacements_delete=['liq.','diss.']\n",
    "for i in replacements_delete:\n",
    "    df['club_to'] = df['club_to'].str.replace(str(i),'', regex=True)\n",
    "    df['club_from'] = df['club_from'].str.replace(str(i),'', regex=True)\n",
    "\n",
    "df[\"club_to\"] = df[\"club_to\"].replace(\"\\s+[BC]$\", \" youth\", regex=True)\n",
    "df[\"club_from\"] = df[\"club_from\"].replace(\"\\s+[BC]$\", \" youth\", regex=True)\n",
    "\n",
    "#Correcting the falsely changed club Willem II Tilburg:\n",
    "df['club_to'] = df['club_to'].str.replace('Willem youth youth', 'Willem II youth', regex=True)\n",
    "df['club_from'] = df['club_from'].str.replace('Willem youth youth', 'Willem II youth', regex=True)\n",
    "df['club_to'] = df['club_to'].str.replace('Willem youth Tilburg', 'Willem II Tilburg', regex=True)\n",
    "df['club_from'] = df['club_from'].str.replace('Willem youth Tilburg', 'Willem II Tilburg', regex=True)\n",
    "df['club_to'] = df['club_to'].str.replace('Willem youth/RKC-19', 'Willem II/RKC-19', regex=True)\n",
    "df['club_from'] = df['club_from'].str.replace('Willem youth/RKC-19', 'Willem II/RKC-19', regex=True)\n",
    "df['club_to'] = df['club_to'].str.replace('Willem youth', 'Willem II', regex=True)\n",
    "df['club_from'] = df['club_from'].str.replace('Willem youth', 'Willem II', regex=True)\n"
   ]
  },
  {
   "cell_type": "code",
   "execution_count": null,
   "metadata": {
    "colab": {
     "base_uri": "https://localhost:8080/"
    },
    "id": "wqPS3mbIz0en",
    "outputId": "eb937327-12dc-4557-e931-e303824cba0d"
   },
   "outputs": [],
   "source": [
    "#Leagues to be cleaned:\n",
    "df['league_from'].unique()"
   ]
  },
  {
   "cell_type": "code",
   "execution_count": null,
   "metadata": {
    "id": "HI6_ulGHz0eo"
   },
   "outputs": [],
   "source": [
    "#creating a list with all unique club names in the data set in order to be able to browse through.\n",
    "club_names = set(df['club_from'].unique().tolist() + df['club_to'].unique().tolist())\n",
    "#Search for any club\n",
    "[i for i in filter(lambda x: \"salamanca\" in x.lower(), sorted(club_names))]"
   ]
  },
  {
   "cell_type": "markdown",
   "metadata": {},
   "source": [
    "### Eredivisie"
   ]
  },
  {
   "cell_type": "code",
   "execution_count": null,
   "metadata": {},
   "outputs": [],
   "source": [
    "nl_map = {\n",
    "    \"Ajax youth\": \"Ajax Amsterdam\",\n",
    "    \"Ajax Amateurs\": \"Ajax Amsterdam\",\n",
    "    \"Ajax\": \"Ajax Amsterdam\",\n",
    "    \"PSV youth\": \"PSV Eindhoven\",\n",
    "    \"SC Feyenoord\": \"Feyenoord Rotterdam\",\n",
    "    \"Feyenoord\": \"Feyenoord Rotterdam\",\n",
    "    \"Feyenoord youth\": \"Feyenoord Rotterdam\",\n",
    "    \"Vitesse\": \"Vitesse Arnhem\",\n",
    "    \"Vitesse youth\": \"Vitesse Arnhem\",\n",
    "    \"Utrecht youth\": \"FC Utrecht\",\n",
    "    \"FC Twente\": \"Twente Enschede FC\",\n",
    "    \"FC Twente youth\": \"Twente Enschede FC\",\n",
    "    \"Twente FC\": \"Twente Enschede FC\",\n",
    "    \"Groningen youth\": \"FC Groningen\",\n",
    "    \"Heerenveen\": \"SC Heerenveen\",\n",
    "    \"Heerenveen youth\": \"SC Heerenveen\",\n",
    "    \"FC Den Haag\": \"ADO Den Haag\",\n",
    "    #\"\": \"AZ Alkmaar\",\n",
    "    \"FC Zwolle\": \"PEC Zwolle\",\n",
    "    \"Heracles\": \"Heracles Almelo\",\n",
    "    \"Heracles youth\": \"Heracles Almelo\",\n",
    "    #\"\": \"NAC Breda\",\n",
    "    #\"\": \"RKC Waalwijk\",\n",
    "    #\"\": \"NEC Nijmegen\",\n",
    "    \"Roda JC\": \"Roda JC Kerkrade\",\n",
    "    \"Roda JC youth\": \"Roda JC Kerkrade\",\n",
    "    \"SC Cambuur\": \"SC Cambuur-Leeuwarden\",\n",
    "    \"SC Cambuur youth\": \"SC Cambuur-Leeuwarden\",\n",
    "    \"Cambuur L.\": \"SC Cambuur-Leeuwarden\",\n",
    "    \"Cambuur-Leeuwarden bvo\": \"SC Cambuur-Leeuwarden\",\n",
    "    \"Go Ahead Eagles\": \"Go Ahead Eagles Deventer\",\n",
    "    \"Willem IIyouth\": \"Willem II\",\n",
    "    \"Willem II Tilburg\": \"Willem II\",\n",
    "    \"Dordrecht youth\": \"FC Dordrecht\",\n",
    "    \"Dordrecht'90\": \"FC Dordrecht\",\n",
    "    \"Excelsior youth\": \"SBV Excelsior Rotterdam\",\n",
    "    \"Excelsior\": \"SBV Excelsior Rotterdam\",\n",
    "    \"De Graafschap\": \"De Graafschap Doetinchem\",\n",
    "    \"Graafschap youth\": \"De Graafschap Doetinchem\",\n",
    "    #\"\": \"VVV-Venlo\",\n",
    "    \"Volendam youth\": \"FC Volendam\",\n",
    "    \"Maastricht youth\": \"MVV Maastricht\",\n",
    "    #\"\": \"Sparta Rotterdam\",\n",
    "    \"Sittard youth\": \"Fortuna Sittard\",\n",
    "    \"Den Bosch youth\": \"FC Den Bosch\",\n",
    "    \"Roosendaal youth\": \"RBC Roosendaal\",\n",
    "    \"Emmen\": \"FC Emmen\",\n",
    "    \"Emmen youth\": \"FC Emmen\",\n",
    "    \"H'veen/Emmen youth\": \"FC Emmen\"\n",
    "}"
   ]
  },
  {
   "cell_type": "code",
   "execution_count": null,
   "metadata": {},
   "outputs": [],
   "source": [
    "df[\"club_from\"] = df[\"club_from\"].replace(nl_map)\n",
    "df[\"club_to\"] = df[\"club_to\"].replace(nl_map)"
   ]
  },
  {
   "cell_type": "code",
   "execution_count": null,
   "metadata": {},
   "outputs": [],
   "source": [
    "names = [i for i in df_copy[\"club_name\"].loc[df_copy[\"league_name\"] == \"Eredivisie\"].unique() if i not in nl_map.values()]\n",
    "names.extend(list(nl_map.values()))\n",
    "names = set(names)\n",
    "league_nl = {k: \"Eredivisie\" for k in names}"
   ]
  },
  {
   "cell_type": "markdown",
   "metadata": {},
   "source": [
    "### Ligue 1"
   ]
  },
  {
   "cell_type": "code",
   "execution_count": null,
   "metadata": {},
   "outputs": [],
   "source": [
    "#List all the club names from Ligue 1 to replace\n",
    "\n",
    "replacementligue1 = []\n",
    "\n",
    "lehavre = ['AC Le Havre', ['Le Havre youth', 'Le Havre youth']]\n",
    "replacementligue1.append(lehavre)\n",
    "\n",
    "bordeaux = ['G. Bordeaux', ['Bordeaux youth', 'FC Girondins Bordeaux', 'G. Bordeaux youth']]\n",
    "replacementligue1.append(bordeaux)\n",
    "\n",
    "sochaux = ['FC Sochaux', ['FC Sochaux youth', 'FC Sochaux-Montbéliard', 'FC Sochaux youth']]\n",
    "replacementligue1.append(sochaux)\n",
    "\n",
    "monaco = ['AS Monaco', ['Monaco', 'Monaco youth', 'Monaco youth']]\n",
    "replacementligue1.append(monaco)\n",
    "\n",
    "lens = ['Lens', ['RC Lens', 'RC Lens youth', 'RC Lensyouth']]\n",
    "replacementligue1.append(lens)\n",
    "\n",
    "marseille = ['Marseille', ['Marseille Yth', 'Marseille youth', 'Marseille youth', 'Olympique Marseille']]\n",
    "replacementligue1.append(marseille)\n",
    "\n",
    "montpellier=['Montpellier HSC',['HSC Montpellier youth', 'HSC Montpellier youth', 'Montpellier', 'Montpellier youth']]\n",
    "replacementligue1.append(montpellier)\n",
    "\n",
    "auxerre=['AJ Auxerre', ['AJ Auxerre youth', 'AJ Auxerreyouth']]\n",
    "replacementligue1.append(auxerre)\n",
    "\n",
    "nantes=['FC Nantes', ['FC Nantes youth', 'FC Nantes youth']]\n",
    "replacementligue1.append(nantes)\n",
    "\n",
    "metz=['FC Metz', ['FC Metz youth', 'FC Metz youth', 'Metz youth']]\n",
    "replacementligue1.append(metz)\n",
    "\n",
    "lyon=['Olympique Lyon', ['Olymp. Lyon youth', 'Olymp. Lyon youth']]\n",
    "replacementligue1.append(lyon)\n",
    "\n",
    "toulouse=['FC Toulouse',['FC Toulouse youth', 'Toulouse', 'Toulouse youth']]\n",
    "replacementligue1.append(toulouse)\n",
    "\n",
    "lille=['LOSC Lille', ['LOSC Lille youth', 'LOSC Lille youth']]\n",
    "replacementligue1.append(lille)\n",
    "\n",
    "toulon=['SC Toulon',['SC Toulon 83', 'SC Toulon Var', 'SC Toulon youth', 'Sp. Toulon Var', 'Sporting Club de Toulon et du Var']]\n",
    "replacementligue1.append(toulon)\n",
    "\n",
    "nimes=['Nîmes Olympique', ['Nîmes Ol. youth', 'Nîmesyouth']]\n",
    "replacementligue1.append(nimes)\n",
    "\n",
    "psg=['Paris SG',['Paris SG youth', 'Paris SG youth', 'Paris Saint-Germain']]\n",
    "replacementligue1.append(psg)\n",
    "\n",
    "caen=['SM Caen', ['SM Caen youth', 'SM Caen youth']]\n",
    "replacementligue1.append(caen)\n",
    "\n",
    "stetienne=[\"AS Saint-Étienne\", [\"Saint-Étienne\", \"St-Étienne youth\", \"Saint-Étienne youth\"]]\n",
    "replacementligue1.append(stetienne)\n",
    "\n",
    "valenciennes=['US Valenciennes',['Union Sportive Valenciennes-Anzin Arronment', 'Valenciennes FC', 'Valenciennes youth', 'Valencienne youth']]\n",
    "replacementligue1.append(valenciennes)\n",
    "\n",
    "strasbourg=[\"R. Strasbourg\",[\"RC Strasbourg Alsace\", \"R. Strasbourg youth\", \"Strasbourg youth\"]]\n",
    "replacementligue1.append(strasbourg)\n",
    "\n",
    "martigues=['FC Martigues', ['Martigues youth']]\n",
    "replacementligue1.append(martigues)\n",
    "\n",
    "angers=['SCO Angers',['SCO Angers youth', 'SCO Angers youth']]\n",
    "replacementligue1.append(angers)\n",
    "\n",
    "cannes=['AS Cannes', ['AS Cannes youth', 'Cannes', 'Cannes youth']]\n",
    "replacementligue1.append(cannes)\n",
    "\n",
    "nice=['OGC Nice', ['OGC Niceyouth', \"Nizza youth\"]]\n",
    "replacementligue1.append(nice)\n",
    "\n",
    "rennes=['Stade Rennais', ['Stade Rennais FC', 'Rennes youth', 'Rennes youth']]\n",
    "replacementligue1.append(rennes)\n",
    "\n",
    "bastia=['SC Bastia', ['Bastia', 'SC Bastia youth', 'SC Bastia youth']]\n",
    "replacementligue1.append(bastia)\n",
    "\n",
    "guingamp=['EA Guingamp', ['EA Guingamp youth', 'EA Guingamp youth', 'Guingamp']]\n",
    "replacementligue1.append(guingamp)\n",
    "\n",
    "nancy=['AS Nancy', ['AS Nancy youth', 'AS Nancy-Lorraine', 'AS Nancy youth']]\n",
    "replacementligue1.append(nancy)\n",
    "\n",
    "chateauroux = ['LB Châteauroux',  ['LB Châteauroux youth']]\n",
    "replacementligue1.append(chateauroux)\n",
    "\n",
    "lorient=['FC Lorient', ['FC Lorient youth', 'Lorient youth']]\n",
    "replacementligue1.append(lorient)\n",
    "\n",
    "sedan=['CS Sedan', ['CS Sedan-Ardennes', 'CS Sedan youth']]\n",
    "replacementligue1.append(sedan)\n",
    "\n",
    "troyes=['Troyes',['Association Troyes Aube Champagne', 'ES Troyes AC', 'ES Troyes AC youth', 'ES Troyes ACyouth', 'ESTAC Troyes']]\n",
    "replacementligue1.append(troyes)\n",
    "\n",
    "ajaccio=['AC Ajaccio', ['AC Ajaccioyouth']]\n",
    "replacementligue1.append(ajaccio)\n",
    "\n",
    "lemans=['FC Le Mans', ['FC Le Mans youth', 'Le Mans FC']]\n",
    "replacementligue1.append(lemans)\n",
    "\n",
    "istres=['FC Istres',  ['FC Istres Ouest Provence', 'Istres FC', 'Istres FCyouth']]\n",
    "replacementligue1.append(istres)\n",
    "\n",
    "grenoble=['Grenoble', ['Grenoble Foot 38', 'Grenobleyouth']]\n",
    "replacementligue1.append(grenoble)\n",
    "\n",
    "boulogne=['US Boulogne', ['Boulogne youth']]\n",
    "replacementligue1.append(boulogne)\n",
    "\n",
    "brest=['Brest', ['Brestyouth', 'Stade Brest 29', 'Stade Brestois 29']]\n",
    "replacementligue1.append(brest)\n",
    "\n",
    "arles=['AC Arles',  ['AC Arles-Avignon', 'AC Arles youth']]\n",
    "replacementligue1.append(arles)\n",
    "\n",
    "evian=['Évian', ['FC Évian Thonon Gaillard', 'Thonon Évian', 'Thonon Évianyouth']]\n",
    "replacementligue1.append(evian)\n",
    "\n",
    "dijon=['Dijon',  ['Dijon FCO', 'Dijon youth', 'FCO Dijon youth']]\n",
    "replacementligue1.append(dijon)\n",
    "\n",
    "reims=['Stade Reims',  ['Stade Reims youth', 'Stade Reims youth']]\n",
    "replacementligue1.append(reims)\n",
    "\n",
    "g_ajaccio=['G. Ajaccio',  ['GFC Ajaccio', 'GFCO Ajaccio']]\n",
    "replacementligue1.append(g_ajaccio)\n",
    "\n",
    "amiens=['Amiens SC', ['SC Amiens', 'SC Amiens youth', 'SC Amiens youth']]\n",
    "replacementligue1.append(amiens)"
   ]
  },
  {
   "cell_type": "code",
   "execution_count": null,
   "metadata": {},
   "outputs": [],
   "source": [
    "# Replace names\n",
    "for i in replacementligue1:\n",
    "    for k in i[1]:\n",
    "        df['club_to'] = df['club_to'].replace(str(k), str(i[0]))\n",
    "        df['club_from'] = df['club_from'].replace(str(k), str(i[0]))"
   ]
  },
  {
   "cell_type": "code",
   "execution_count": null,
   "metadata": {},
   "outputs": [],
   "source": [
    "league_fr = {i[0]: \"Ligue 1\" for i in replacementligue1}"
   ]
  },
  {
   "cell_type": "markdown",
   "metadata": {},
   "source": [
    "### La Liga"
   ]
  },
  {
   "cell_type": "code",
   "execution_count": null,
   "metadata": {},
   "outputs": [],
   "source": [
    "es_map = {\n",
    "    \"Albacete\": \"Albacete Balompié\",\n",
    "    \"Albacete youth\": \"Albacete Balompié\",\n",
    "    \"Bilbao Athletic\": \"Athletic Bilbao\",\n",
    "    \"Atlético Madrid\": \"Atlético de Madrid\",\n",
    "    \"Burgos CF\": \"Real Burgos CF\",\n",
    "    \"Osasuna youth\": \"CA Osasuna\",\n",
    "    \"Leganés youth\": \"CD Leganés\",\n",
    "    \"CD Logroñés ()\": \"UD Logroñés\",\n",
    "    \"CD Logroñés\": \"UD Logroñés\",\n",
    "    \"Logroñés CF\": \"UD Logroñés\",\n",
    "    \"Logroñés youth\": \"UD Logroñés\",\n",
    "    \"Tenerife youth\": \"CD Tenerife\",\n",
    "    \"CF Extremadura ()\": \"CF Extremadura\",\n",
    "    \"Extremadura\": \"CF Extremadura\",\n",
    "    \"Extremadura youth\": \"CF Extremadura\",\n",
    "    \"CP Mérida ()\": \"Mérida UD\",\n",
    "    \"CP Mérida\": \"Mérida UD\",\n",
    "    \"Celta youth\": \"Celta de Vigo\",\n",
    "    \"Celta Vigo youth\": \"Celta de Vigo\",\n",
    "    \"Cádiz youth\": \"Cádiz CF youth\",\n",
    "    \"Depor. Alavés youth\": \"Deportivo Alavés\",\n",
    "    \"Alavés youth\": \"Deportivo Alavés\",\n",
    "    \"Alavés\": \"Deportivo Alavés\",\n",
    "    \"Dep. La Coruña\": \"Deportivo de La Coruña\",\n",
    "    \"Barcelona\": \"FC Barcelona\",\n",
    "    \"Barcelona youth\": \"FC Barcelona\",\n",
    "    \"Getafe youth\": \"Getafe CF\",\n",
    "    \"Getafe\": \"Getafe CF\",\n",
    "    \"Girona\": \"Girona FC\",\n",
    "    \"Levante\": \"Levante UD\",\n",
    "    \"Levante youth\": \"Levante UD\",\n",
    "    \"Málaga youth\": \"Málaga CF\",\n",
    "    \"Mallorca youth\": \"RCD Mallorca\",\n",
    "    \"Betis youth\": \"Real Betis Balompié\",\n",
    "    \"Real Betis\": \"Real Betis Balompié\",\n",
    "    \"Real Murcia\": \"Real Murcia CF\",\n",
    "    \"Oviedo youth\": \"Real Oviedo\",\n",
    "    \"R. Sociedad youth\": \"Real Sociedad\",\n",
    "    \"R. Valladolid youth\": \"Real Valladolid CF\",\n",
    "    \"Real Valladolid\": \"Real Valladolid CF\",\n",
    "    \"Valladolid youth\": \"Real Valladolid CF\",\n",
    "    \"Recr. Huelva\": \"Recreativo Huelva\",\n",
    "    \"Recr. Huelva youth\": \"Recreativo Huelva\",\n",
    "    \"Compostela youth\": \"SD Compostela\",\n",
    "    \"Sevilla youth\": \"Sevilla FC\",\n",
    "    \"Las Palmas youth\": \"UD Las Palmas\",\n",
    "    \"Las Palmas Atl.\": \"UD Las Palmas\",\n",
    "    \"UD Salamanca ()\": \"UD Salamanca\",\n",
    "    \"Salamanca CF\": \"UD Salamanca\",\n",
    "    \"Salamanca youth\": \"UD Salamanca\",\n",
    "    \"UE Lleida ()\": \"UE Lleida\",\n",
    "    \"Lleida Esportiu\": \"UE Lleida\",\n",
    "    \"Valencia\": \"Valencia CF\",\n",
    "    \"Valencia youth\": \"Valencia CF\",\n",
    "    \"Villarreal\": \"Villarreal CF\",\n",
    "    \"Villarreal youth\": \"Villarreal CF\",\n",
    "    \"FC Villarreal youth\": \"Villarreal CF\"\n",
    "}"
   ]
  },
  {
   "cell_type": "code",
   "execution_count": null,
   "metadata": {},
   "outputs": [],
   "source": [
    "df[\"club_from\"] = df[\"club_from\"].replace(es_map)\n",
    "df[\"club_to\"] = df[\"club_to\"].replace(es_map)"
   ]
  },
  {
   "cell_type": "code",
   "execution_count": null,
   "metadata": {},
   "outputs": [],
   "source": [
    "names = [i for i in df_copy[\"club_name\"].loc[df_copy[\"league_name\"] == \"Primera Division\"].unique() if i not in es_map.values()]\n",
    "names.extend(list(es_map.values()))\n",
    "names = set(names)\n",
    "league_es = {k: \"Primera Division\" for k in names}"
   ]
  },
  {
   "cell_type": "markdown",
   "metadata": {},
   "source": [
    "### Premier League"
   ]
  },
  {
   "cell_type": "code",
   "execution_count": null,
   "metadata": {},
   "outputs": [],
   "source": [
    "#List all the club names from the Premier League to replace\n",
    "\n",
    "replacementpremierleague = []\n",
    "\n",
    "oldham_athletic = ['Oldham Athletic', ['Oldham youth']]\n",
    "replacementpremierleague.append(oldham_athletic)\n",
    "\n",
    "chelsea = ['Chelsea',['Chelsea FC', 'Chelsea youth']]\n",
    "replacementpremierleague.append(chelsea)\n",
    "\n",
    "arsenal = ['Arsenal',['Arsenal FC youth', 'Arsenal FC', 'Arsenal youth']]\n",
    "replacementpremierleague.append(arsenal)\n",
    "\n",
    "everton = ['Everton',['Everton youth', 'Everton FC']]\n",
    "replacementpremierleague.append(everton)\n",
    "\n",
    "liverpool=['Liverpool',['Liverpool FC', 'Liverpool youth']]\n",
    "replacementpremierleague.append(liverpool)\n",
    "\n",
    "tottenham=['Tottenham Hotspurs',['Spurs', 'Tottenham youth', 'Tottenham Hotspur']]\n",
    "replacementpremierleague.append(tottenham)\n",
    "\n",
    "manutd=['Man Utd',['Manchester United', 'Man Utd youth']]\n",
    "replacementpremierleague.append(manutd)\n",
    "\n",
    "mancity=['Man City',['Man City youth', 'Manchester City']]\n",
    "replacementpremierleague.append(mancity)\n",
    "\n",
    "wimbledon=['Wimbledon',['AFC Wimbledon', 'Wimbledon FC']]\n",
    "replacementpremierleague.append(wimbledon)\n",
    "\n",
    "sheffield_utd=['Sheff Utd',['Sheff Utd youth', 'Sheffield United', 'Sheffield Utd.']]\n",
    "replacementpremierleague.append(sheffield_utd)\n",
    "\n",
    "sheffield_wed=['Sheff Wed',['Sheff Wed youth', 'Sheffield Wednesday']]\n",
    "replacementpremierleague.append(sheffield_wed)\n",
    "\n",
    "swindon=['Swindon Town',['Swindon youth']]\n",
    "replacementpremierleague.append(swindon)\n",
    "\n",
    "bradford=['Bradford',['Bradford City', 'Bradford youth']]\n",
    "replacementpremierleague.append(bradford)"
   ]
  },
  {
   "cell_type": "code",
   "execution_count": null,
   "metadata": {},
   "outputs": [],
   "source": [
    "#Replace the names\n",
    "for i in replacementpremierleague:\n",
    "    for k in i[1]:\n",
    "        df['club_to'] = df['club_to'].replace(str(k), str(i[0]))\n",
    "        df['club_from'] = df['club_from'].replace(str(k), str(i[0]))"
   ]
  },
  {
   "cell_type": "code",
   "execution_count": null,
   "metadata": {},
   "outputs": [],
   "source": [
    "league_en = {i[0]: \"Premier League\" for i in replacementpremierleague}"
   ]
  },
  {
   "cell_type": "markdown",
   "metadata": {},
   "source": [
    "### Championship (English League 2)"
   ]
  },
  {
   "cell_type": "code",
   "execution_count": null,
   "metadata": {
    "id": "IvLlYppJz0ep"
   },
   "outputs": [],
   "source": [
    "#List all the club names from the Championship to replace\n",
    "\n",
    "replacementschampionship=[]\n",
    "wigan=['Wigan Athletic',['Wigan', 'Wigan youth']]\n",
    "replacementschampionship.append(wigan)\n",
    "\n",
    "reading=['Reading FC',['Reading', 'Reading youth']]\n",
    "replacementschampionship.append(reading)\n",
    "\n",
    "qpr=['Queens Park Rangers',['QPR', 'QPR youth']]\n",
    "replacementschampionship.append(qpr)\n",
    "\n",
    "watford=['Watford FC',['Watford', 'Watford youth']]\n",
    "replacementschampionship.append(watford)\n",
    "\n",
    "brighton=['Brighton & Hove Albion',['Brighton', 'Brighton youth']]\n",
    "replacementschampionship.append(brighton)\n",
    "\n",
    "leicester=['Leicester City',['Leicester', 'Leicester youth']]\n",
    "replacementschampionship.append(leicester)\n",
    "\n",
    "bolton=['Bolton Wanderers',['Bolton', 'Bolton youth']]\n",
    "replacementschampionship.append(bolton)\n",
    "\n",
    "nottingham=['Nottingham Forest',['Nottingham youth', 'Nottm Forest']]\n",
    "replacementschampionship.append(nottingham)\n",
    "\n",
    "charlton=['Charlton Athletic',['Charlton youth', 'Charlton']]\n",
    "replacementschampionship.append(charlton)\n",
    "\n",
    "derby=['Derby County',['Derby', 'Derby youth']]\n",
    "replacementschampionship.append(derby)\n",
    "\n",
    "burnley=['Burnley FC',['Burnley', 'Burnley youth']]\n",
    "replacementschampionship.append(burnley)\n",
    "\n",
    "birmingham=['Birmingham City',['Birmingham', 'Birmingham youth']]\n",
    "replacementschampionship.append(birmingham)\n",
    "\n",
    "leeds=['Leeds United',['Leeds', 'Leeds youth']]\n",
    "replacementschampionship.append(leeds)\n",
    "\n",
    "ipswich=['Ipswich Tow',['Ipswich youth', 'Ipswich']]\n",
    "replacementschampionship.append(ipswich)\n",
    "\n",
    "blackpool=['Blackpool FC',['Blackpool', 'Blackpool youth']]\n",
    "replacementschampionship.append(blackpool)\n",
    "\n",
    "mbrough=['Middlesbrough FC',['Middlesbrough']]\n",
    "replacementschampionship.append(mbrough)\n",
    "\n",
    "blackburn=['blackburn Rovers',['Blackburn', 'Blackburn youth']]\n",
    "replacementschampionship.append(blackburn)\n",
    "\n",
    "huddersfield=['Huddersfield Town',['Huddersfieldyouth', 'Huddersf. youth', 'Huddersfield']]\n",
    "replacementschampionship.append(huddersfield)\n",
    "\n",
    "millwall=['Millwall FC',['Millwall', 'Millwall youth']]\n",
    "replacementschampionship.append(millwall)\n",
    "\n",
    "barnsley=['Barnsley FC',['Barnsley youth']]\n",
    "replacementschampionship.append(barnsley)\n",
    "\n",
    "doncaster=['Doncaster Rovers',['Doncaster youth', 'Doncaster']]\n",
    "replacementschampionship.append(doncaster)\n",
    "\n",
    "bmouth=['AFC Bournemouth',['Bournemouth youth', 'Bournemouth']]\n",
    "replacementschampionship.append(bmouth)\n",
    "\n",
    "yeovil=['Yeovil Town',['Yeovil youth']]\n",
    "replacementschampionship.append(yeovil)\n",
    "\n",
    "brentford=['Brentford FC',['Brentfordyouth', 'Brentford youth', 'Brentford']]\n",
    "replacementschampionship.append(brentford)\n",
    "\n",
    "cardiff=['Cardiff City',['Cardiff youth', 'Cardiff']]\n",
    "replacementschampionship.append(cardiff)\n",
    "\n",
    "fulham=['Fulham FC',['Fulham youth', 'Fulham']]\n",
    "replacementschampionship.append(fulham)\n",
    "\n",
    "norwich=['Norwich City',['Norwich youth', 'Norwich']]\n",
    "replacementschampionship.append(norwich)\n",
    "\n",
    "rotherham=['Rotherham United',['Rotherham youth', 'Rotherham']]\n",
    "replacementschampionship.append(rotherham)\n",
    "\n",
    "wolves=['Wolverhampton Wanderers',['Wolves youth', 'Wolves', 'Wolves FC']]\n",
    "replacementschampionship.append(wolves)\n",
    "\n",
    "hull=['Hull City',['Hull youth']]\n",
    "replacementschampionship.append(hull)\n",
    "\n",
    "bristol=['Bristol City',['Bristol C youth', 'Bristol City youth', 'Bristol youth']]\n",
    "replacementschampionship.append(bristol)\n",
    "\n",
    "mkdons=['Milton Keynes Dons',['MK Dons youth', 'MK Dons']]\n",
    "replacementschampionship.append(mkdons)\n",
    "\n",
    "preston=['Preston North End',['Preston NE', 'Preston youth', 'Preston']]\n",
    "replacementschampionship.append(preston)\n",
    "\n",
    "crystal=['Crystal Palace',['Palace youth']]\n",
    "replacementschampionship.append(crystal)\n",
    "\n",
    "pborough=['Peterborough United',['Peterborough']]\n",
    "replacementschampionship.append(pborough)\n",
    "\n",
    "westbrom=['West Bromwich Albion',['West Brom youth', 'West Brom']]\n",
    "replacementschampionship.append(westbrom)\n",
    "\n",
    "swansea=['Swansea City',['Swansea youth', 'Swansea']]\n",
    "replacementschampionship.append(swansea)\n",
    "\n",
    "stoke=['Stoke City',['Stoke youth']]\n",
    "replacementschampionship.append(stoke)\n",
    "\n",
    "luton=['Luton Town',['Luton youth', 'Luton']]\n",
    "replacementschampionship.append(luton)\n",
    "\n",
    "sheffield=['Sheffield United',['Sheffield Utd.']]\n",
    "replacementschampionship.append(sheffield)\n",
    "\n",
    "plymouth=['Plymouth Argyle',['Plymouth youth', 'Plymouth']]\n",
    "replacementschampionship.append(plymouth)\n",
    "\n",
    "southampton=['Southampton FC',['Southampton youth', 'Southampton', 'Southamptonyouth']]\n",
    "replacementschampionship.append(southampton)\n",
    "\n",
    "coventry=['Coventry City',['Coventry youth', 'Coventry']]\n",
    "replacementschampionship.append(coventry)\n",
    "\n",
    "sunderland=['Sunderland AFC',['Sunderland youth', 'Sunderland']]\n",
    "replacementschampionship.append(sunderland)\n",
    "\n",
    "southend=['Southend United',['Southend youth']]\n",
    "replacementschampionship.append(southend)\n",
    "\n",
    "colchester=['Colchester United',['Colchester Utd.', 'Colchester youth']]\n",
    "replacementschampionship.append(colchester)\n",
    "\n",
    "scunthorpe=['Scunthorpe United',['Scunthorpe Utd.', 'Scunthorpe youth']]\n",
    "replacementschampionship.append(scunthorpe)\n",
    "\n",
    "newcastle=['Newcastle United',['Newcastle youth', 'Newcastle']]\n",
    "replacementschampionship.append(newcastle)\n",
    "\n",
    "aston=['Aston Villa',['Aston Villa youth']]\n",
    "replacementschampionship.append(aston)\n",
    "\n",
    "burton=['Burton Albion',['Burton youth']]\n",
    "replacementschampionship.append(burton)\n",
    "\n",
    "portsmouth=['Portsmouth FC',['Portsmouth youth', 'Portsmouth']]\n",
    "replacementschampionship.append(portsmouth)\n",
    "\n",
    "wycombe=['Wycombe Wanderers',['Wycombe', 'Test']]\n",
    "replacementschampionship.append(wycombe)\n",
    "\n",
    "westham=['West Ham United',['West Ham youth', 'West Ham']]\n",
    "replacementschampionship.append(westham)\n",
    "\n",
    "crewe=['Crewe Alexandra',['Crewe youth', 'Test']]\n",
    "replacementschampionship.append(crewe)\n",
    "\n",
    "gillingham=['Gillingham FC',['Gillingham youth']]\n",
    "replacementschampionship.append(gillingham)"
   ]
  },
  {
   "cell_type": "code",
   "execution_count": null,
   "metadata": {
    "id": "KeN1YDX5z0eq"
   },
   "outputs": [],
   "source": [
    "#Replace the names\n",
    "\n",
    "for i in replacementschampionship:\n",
    "    for k in i[1]:\n",
    "        df['club_to'] = df['club_to'].replace(str(k), str(i[0]))\n",
    "        df['club_from'] = df['club_from'].replace(str(k), str(i[0]))"
   ]
  },
  {
   "cell_type": "code",
   "execution_count": null,
   "metadata": {},
   "outputs": [],
   "source": [
    "league_en_2 = {i[0]: \"Championship\" for i in replacementschampionship}"
   ]
  },
  {
   "cell_type": "markdown",
   "metadata": {},
   "source": [
    "### Serie A"
   ]
  },
  {
   "cell_type": "code",
   "execution_count": null,
   "metadata": {
    "id": "grcViVpfz0er"
   },
   "outputs": [],
   "source": [
    "#List all the club names from Serie A to replace\n",
    "\n",
    "replacementsseriea=[]\n",
    "acmilan=['AC Milan',['AC Milan Youth', 'AC Milan youth', 'Milan', 'Milan youth', 'Milan AC']]\n",
    "replacementsseriea.append(acmilan)\n",
    "\n",
    "atalanta=['Atalanta BC',['Atalanta', 'Atalanta youth']]\n",
    "replacementsseriea.append(atalanta)\n",
    "\n",
    "chievo=['Chievo Verona',['Chievo youth', 'Chievo Youth', 'Verona', 'Verona youth']]\n",
    "replacementsseriea.append(chievo)\n",
    "\n",
    "bologna=['Bologna FC 1909',['Bologna youth', 'Bologna']]\n",
    "replacementsseriea.append(bologna)\n",
    "\n",
    "sampdoria=['UC Sampdoria',['Sampdoria', 'Sampdoria youth', 'Genoa', 'Genoa youth']]\n",
    "replacementsseriea.append(sampdoria)\n",
    "\n",
    "livorno=['AS Livorno',['Livorno youth']]\n",
    "replacementsseriea.append(livorno)\n",
    "\n",
    "cagliari=['Cagliari Calcio',['Cagliari youth', 'Cagliari Youth']]\n",
    "replacementsseriea.append(cagliari)\n",
    "\n",
    "catania=['Calcio Catania',['Catania', 'Catania youth']]\n",
    "replacementsseriea.append(catania)\n",
    "\n",
    "napoli=['SSC Napoli',['Napoli', 'Napoli youth']]\n",
    "replacementsseriea.append(napoli)\n",
    "\n",
    "juventus=['Juventus FC',['Juventus', 'Juventus youth']]\n",
    "replacementsseriea.append(juventus)\n",
    "\n",
    "fiorentina=['ACF Fiorentina',['AC Fiorentina', 'Fiorentina', 'Fiorentina youth', 'Florentia']]\n",
    "replacementsseriea.append(fiorentina)\n",
    "\n",
    "asroma=['AS Roma',['Roma youth', 'AS Rom Youth', 'AS Rom youth']]\n",
    "replacementsseriea.append(asroma)\n",
    "\n",
    "intermailand=['FC Internazionale',['FC Inter', 'Inter Milan', 'Inter youth', 'Inter-2005 M.']]\n",
    "replacementsseriea.append(intermailand)\n",
    "\n",
    "parma=['Parma FC',['AC Parma', 'Parma', 'Parma youth', 'Parma Calcio 1913', 'Parma FC Youth']]\n",
    "replacementsseriea.append(parma)\n",
    "\n",
    "genoa=['Genoa CFC',['Genoa 1893', 'Genoa CFC Youth']]\n",
    "replacementsseriea.append(genoa)\n",
    "\n",
    "hellas=['Hellas Verona',['Hellas Sport']]\n",
    "replacementsseriea.append(hellas)\n",
    "\n",
    "lazio=['SS Lazio',['Lazio', 'Lazio youth', 'Lazio Youth']]\n",
    "replacementsseriea.append(lazio)\n",
    "\n",
    "udinese=['Udinese Calcio',['Udinese', 'Udinese youth']]\n",
    "replacementsseriea.append(udinese)\n",
    "\n",
    "torino=['Torino FC',['Torino', 'Torino youth', 'Torino Calcio', 'Torino FC Youth']]\n",
    "replacementsseriea.append(torino)\n",
    "\n",
    "sassuolo=['US Sassuolo',['Sassuolo', 'Sassuolo youth']]\n",
    "replacementsseriea.append(sassuolo)\n",
    "\n",
    "cesena=['AC Cesena',['Cesena', 'Cesena youth', 'RC Cesena']]\n",
    "replacementsseriea.append(cesena)\n",
    "\n",
    "empoli=['FC Empoli',['Empoli youth', 'Empoli FC Youth', 'Empoli FC youth']]\n",
    "replacementsseriea.append(empoli)\n",
    "\n",
    "palermo=['US Palermo',['Palermo', 'Palermo youth', 'US Palermo Yout']]\n",
    "replacementsseriea.append(palermo)\n",
    "\n",
    "carpi=['Carpi FC 1909',['Carpi', 'Carpi youth']]\n",
    "replacementsseriea.append(carpi)\n",
    "\n",
    "frosinone=['Frosinone Calcio',['Frosinone']]\n",
    "replacementsseriea.append(frosinone)\n",
    "\n",
    "siena=['AC Siena',['Siena', 'Siena youth']]\n",
    "replacementsseriea.append(siena)\n",
    "\n",
    "pescara=['Delfino Pescara 1936',['Pescara', 'Pescara youth', 'Pescara Youth']]\n",
    "replacementsseriea.append(pescara)\n",
    "\n",
    "reggiana=['AC Reggiana',['Reggiana', 'Reggiana youth', 'Reggiana Giovani']]\n",
    "replacementsseriea.append(reggiana)\n",
    "\n",
    "cremonese=['US Cremonese',['Cremonese', 'Cremonese youth', 'Cremonese Giov.']]\n",
    "replacementsseriea.append(cremonese)\n",
    "\n",
    "piacenza=['Piacenza FC',['Lupa Piacenza', 'Piacenza youth', 'Piacenza']]\n",
    "replacementsseriea.append(piacenza)\n",
    "\n",
    "foggia=['Foggia Calcio',['Foggia', 'Foggia youth']]\n",
    "replacementsseriea.append(foggia)\n",
    "\n",
    "lecce=['US Lecce',['Lecce youth', 'Lecce']]\n",
    "replacementsseriea.append(lecce)\n",
    "\n",
    "padova=['Calcio Padova',['Padova', 'Padova youth']]\n",
    "replacementsseriea.append(padova)\n",
    "\n",
    "bari=['AS Bari',['Bari', 'Bari youth']]\n",
    "replacementsseriea.append(bari)\n",
    "\n",
    "brescia=['Brescia Calcio',['Brescia youth', 'Brescia']]\n",
    "replacementsseriea.append(brescia)\n",
    "\n",
    "vicenza=['Vicenza Calcio',['LR Vicenza', 'Vicenza', 'Vicenza youth']]\n",
    "replacementsseriea.append(vicenza)\n",
    "\n",
    "ancona=['Ancona Calcio',['Ancona', 'Ancona Matelica', 'Ancona Youth']]\n",
    "replacementsseriea.append(ancona)\n",
    "\n",
    "reggina=['Reggina Calcio',['Reggina', 'Reggina youth']]\n",
    "replacementsseriea.append(reggina)\n",
    "\n",
    "acvenezia=['AC Venezia 1907',['AC Venezia 1907']]\n",
    "replacementsseriea.append(acvenezia)\n",
    "\n",
    "perugia=['AC Perugia',['Perugia youth', 'Perugia']]\n",
    "replacementsseriea.append(perugia)\n",
    "\n",
    "messina=['FC Messina Peloro',['ACR Messina', 'ACR Messina You', 'FC Messina', 'Messina', 'Messina youth', 'Messina Peloro']]\n",
    "replacementsseriea.append(messina)\n",
    "\n",
    "ascoli=['Ascoli Calcio 1898',['Ascoli youth', 'Ascoli']]\n",
    "replacementsseriea.append(ascoli)\n",
    "\n",
    "benevento=['Benevento Calcio',['Benevento youth', 'Benevento']]\n",
    "replacementsseriea.append(benevento)\n",
    "\n",
    "crotone=['FC Crotone',['Crotone youth', 'Crotone']]\n",
    "replacementsseriea.append(crotone)\n",
    "\n",
    "spal=['SPAL 2013',['SPAL youth', 'SPAL']]\n",
    "replacementsseriea.append(spal)\n",
    "\n",
    "spezia=['Spezia Calcio',['Spezia youth', 'Spezia']]\n",
    "replacementsseriea.append(spezia)\n",
    "\n",
    "salernitana=['US Salernitana 1919',['US Salernitana', 'Salernitana youth', 'Salernitana']]\n",
    "replacementsseriea.append(salernitana)\n",
    "\n",
    "veneziafc=['Venezia FC',['SSC Venezia', 'Unione Venezia', 'Venezia', 'Venezia youth']]\n",
    "replacementsseriea.append(veneziafc)\n",
    "\n",
    "novara=['Novara Calcio 1908',['Novara']]\n",
    "replacementsseriea.append(novara)\n",
    "\n",
    "treviso=['ACD Treviso',['Treviso', 'Treviso youth']]\n",
    "replacementsseriea.append(treviso)\n",
    "\n",
    "como=['Como Calcio',['Como youth', 'Como']]\n",
    "replacementsseriea.append(como)\n",
    "\n",
    "modena=['Modena FC',['Modena youth', 'Modena']]\n",
    "replacementsseriea.append(modena)"
   ]
  },
  {
   "cell_type": "code",
   "execution_count": null,
   "metadata": {
    "id": "KqJqU0Z7z0es"
   },
   "outputs": [],
   "source": [
    "#Replace the names\n",
    "\n",
    "for i in replacementsseriea:\n",
    "    for k in i[1]:\n",
    "        df['club_to'] = df['club_to'].replace(str(k), str(i[0]))\n",
    "        df['club_from'] = df['club_from'].replace(str(k), str(i[0]))"
   ]
  },
  {
   "cell_type": "code",
   "execution_count": null,
   "metadata": {},
   "outputs": [],
   "source": [
    "league_it = {i[0]: \"Serie A\" for i in replacementsseriea}"
   ]
  },
  {
   "cell_type": "markdown",
   "metadata": {},
   "source": [
    "### 1. Bundesliga"
   ]
  },
  {
   "cell_type": "code",
   "execution_count": null,
   "metadata": {
    "id": "4gNc06pdz0et"
   },
   "outputs": [],
   "source": [
    "#List all the club names from the Bundesliga to replace\n",
    "\n",
    "replacementsbundesliga=[]\n",
    "bayern=['Bayern Munich',['FC Bayern', 'Bayern Munich youth']]\n",
    "replacementsbundesliga.append(bayern)\n",
    "\n",
    "bvb=['Borussia Dortmund',['B. Dortmund youth', 'Bor. Dortmund']]\n",
    "replacementsbundesliga.append(bvb)\n",
    "\n",
    "leverkusen=['Bayer 04 Leverkusen',['Bay. Leverkusen', 'Leverkusen youth']]\n",
    "replacementsbundesliga.append(leverkusen)\n",
    "\n",
    "schalke=['FC Schalke 04',['Schalke 04 youth']]\n",
    "replacementsbundesliga.append(schalke)\n",
    "\n",
    "freiburg=['SC Freiburg',['SC Freiburg youth']]\n",
    "replacementsbundesliga.append(freiburg)\n",
    "\n",
    "frankfurt=['Eintracht Frankfurt',['E. Frankfurt', 'E. Frankfurt youth']]\n",
    "replacementsbundesliga.append(frankfurt)\n",
    "\n",
    "hsv=['Hamburger SV',['Hamburger SV youth', 'Hamburg youth']]\n",
    "replacementsbundesliga.append(hsv)\n",
    "\n",
    "gladbach=['Borussia Mönchengladbach',[\"M'gladbach youth\", \"Bor. M'gladbach\"]]\n",
    "replacementsbundesliga.append(gladbach)\n",
    "\n",
    "hannover=['Hannover 96',['Hannover 96 youth']]\n",
    "replacementsbundesliga.append(hannover)\n",
    "\n",
    "nuernberg=['1.FC Nuremberg',['Nuremberg youth', 'Nürnberg youth']]\n",
    "replacementsbundesliga.append(nuernberg)\n",
    "\n",
    "wolfsburg=['VfL Wolfsburg',['Wolfsburg youth']]\n",
    "replacementsbundesliga.append(wolfsburg)\n",
    "\n",
    "stuttgart=['VfB Stuttgart',['Stuttgart youth']]\n",
    "replacementsbundesliga.append(stuttgart)\n",
    "\n",
    "mainz=['1.FSV Mainz 05',['FSV Mainz 05 youth', 'Mainz 05 youth']]\n",
    "replacementsbundesliga.append(mainz)\n",
    "\n",
    "bremen=['SV Werder Bremen',['Werder Bremen', 'W. Bremen youth']]\n",
    "replacementsbundesliga.append(bremen)\n",
    "\n",
    "augsburg=['FC Augsburg',['FC Augsburg youth']]\n",
    "replacementsbundesliga.append(augsburg)\n",
    "\n",
    "hoffenheim=['TSG 1899 Hoffenheim',['Hoffenheim youth', 'TSG Hoffenheim']]\n",
    "replacementsbundesliga.append(hoffenheim)\n",
    "\n",
    "hertha=['Hertha BSC',['Hertha BSC youth']]\n",
    "replacementsbundesliga.append(hertha)\n",
    "\n",
    "braunschweig=['Eintracht Braunschweig',['E. Braunschweig', 'Braunschweig youth']]\n",
    "replacementsbundesliga.append(braunschweig)\n",
    "\n",
    "koln=['1. FC Köln',['1.FC Köln youth']]\n",
    "replacementsbundesliga.append(koln)\n",
    "\n",
    "paderborn=['SC Paderborn 07',['Paderborn', 'Paderborn youth', 'SC Paderborn', 'SC Paderborn youth']]\n",
    "replacementsbundesliga.append(paderborn)\n",
    "\n",
    "ingolstadt=['FC Ingolstadt 04',['FC Ingolstadt', 'Ingolstadt youth']]\n",
    "replacementsbundesliga.append(ingolstadt)\n",
    "\n",
    "darmstadt=['SV Darmstadt 98',['Darmstadt youth']]\n",
    "replacementsbundesliga.append(darmstadt)\n",
    "\n",
    "furth=['SpVgg Greuther Fürth',['Gr. Fürth youth', 'Greuther Fürth', 'SpVgg Fürth']]\n",
    "replacementsbundesliga.append(furth)\n",
    "\n",
    "fortuna=['Fortuna Düsseldorf',['Fortuna youth', 'Düsseldorf youth', 'F. Düsseldorf', 'F. Düsseldorf youth']]\n",
    "replacementsbundesliga.append(fortuna)\n",
    "\n",
    "lautern=['1.FC Kaiserslautern',[\"1.FC K'lautern\", \"K'lautern youth\"]]\n",
    "replacementsbundesliga.append(lautern)\n",
    "\n",
    "ddresden=['SG Dynamo Dresden',['Dynamo Dresden', 'D. Dresden youth']]\n",
    "replacementsbundesliga.append(ddresden)\n",
    "\n",
    "watten=['SG Wattenscheid 09',['Wattenscheid youth', 'Wattenscheid 09']]\n",
    "replacementsbundesliga.append(watten)\n",
    "\n",
    "duisburg=['MSV Duisburg',['Duisburg youth', 'MSV Duisburg youth']]\n",
    "replacementsbundesliga.append(duisburg)\n",
    "\n",
    "karlsruhe=['Karlsruher SC',['Karlsruhe youth']]\n",
    "replacementsbundesliga.append(karlsruhe)\n",
    "\n",
    "vfbleipzig=['VfB Leipzig',['VfB Leipzig youth', 'change']]\n",
    "replacementsbundesliga.append(vfbleipzig)\n",
    "\n",
    "uerdingen=['KFC Uerdingen 05',['Bay. Uerdingen', 'Bayer 05 Uerdingen', 'KFC Uerdingen', 'Uerdingen youth']]\n",
    "replacementsbundesliga.append(uerdingen)\n",
    "\n",
    "hansa=['FC Hansa Rostock',['H. Rostock youth', 'Hansa Rostock']]\n",
    "replacementsbundesliga.append(hansa)\n",
    "\n",
    "saarbrucken=['1.FC Saarbrücken',['Saarbrücken', 'Saarbrücken youth']]\n",
    "replacementsbundesliga.append(saarbrucken)\n",
    "\n",
    "cottbus=['FC Energie Cottbus',['Energie Cottbus', 'E. Cottbus youth']]\n",
    "replacementsbundesliga.append(cottbus)\n",
    "\n",
    "bielefeld=['Arminia Bielefeld',['A. Bielefeld youth', 'Arm. Bielefeld', 'Bielefeld youth']]\n",
    "replacementsbundesliga.append(bielefeld)\n",
    "\n",
    "aachen=['Alemannia Aachen',['A. Aachen youth', 'Aachen youth', 'Alem. Aachen']]\n",
    "replacementsbundesliga.append(aachen)\n",
    "\n",
    "unterhaching=['SpVgg Unterhaching',['Unterhaching', 'Unterhaching youth']]\n",
    "replacementsbundesliga.append(unterhaching)\n",
    "\n",
    "rbleipzig=['RB Leipzig',['RB Leipzig youth']]\n",
    "replacementsbundesliga.append(rbleipzig)\n",
    "\n",
    "unionberlin=['1.FC Union Berlin',['Union Berlin', 'U. Berlin youth']]\n",
    "replacementsbundesliga.append(unionberlin)\n",
    "\n",
    "ulm=['SSV Ulm 1846',['SSV Ulm 1846 youth']]\n",
    "replacementsbundesliga.append(ulm)\n",
    "\n",
    "bochum=['VfL Bochum',['VfL Bochum youth', 'change']]\n",
    "replacementsbundesliga.append(bochum)\n",
    "\n",
    "sechziger=['TSV 1860 Munich',['1860 Munich', '1860 München youth', 'TSV 1860 youth']]\n",
    "replacementsbundesliga.append(sechziger)\n",
    "\n",
    "pauli=['FC St. Pauli',['FC St. Pauli youth', 'St. Pauli youth']]\n",
    "replacementsbundesliga.append(pauli)"
   ]
  },
  {
   "cell_type": "code",
   "execution_count": null,
   "metadata": {
    "id": "KaAzJg0mz0et"
   },
   "outputs": [],
   "source": [
    "#Replace the names\n",
    "\n",
    "for i in replacementsbundesliga:\n",
    "    for k in i[1]:\n",
    "        df['club_to'] = df['club_to'].replace(str(k), str(i[0]))\n",
    "        df['club_from'] = df['club_from'].replace(str(k), str(i[0]))"
   ]
  },
  {
   "cell_type": "code",
   "execution_count": null,
   "metadata": {},
   "outputs": [],
   "source": [
    "league_de = {i[0]: \"1 Bundesliga\" for i in replacementsbundesliga}"
   ]
  },
  {
   "cell_type": "markdown",
   "metadata": {},
   "source": [
    "### Liga NOS (Portugal)"
   ]
  },
  {
   "cell_type": "code",
   "execution_count": null,
   "metadata": {
    "id": "p8hLJw0JTRCG"
   },
   "outputs": [],
   "source": [
    "#List all the club names from the Liga Nos to replace\n",
    "\n",
    "replacementsliganos=[]\n",
    "porto=['FC Porto',['FC Porto youth', 'FC Portoyouth' ]]\n",
    "replacementsliganos.append(porto)\n",
    "\n",
    "benfica=['SL Benfica',['Futebol Benfica', 'Benfica youth', 'Benfica youth' ]]\n",
    "replacementsliganos.append(benfica)\n",
    "\n",
    "sporting=['Sporting CP',['Sporting CP youth']]\n",
    "replacementsliganos.append(sporting)\n",
    "\n",
    "boavista=['Boavista FC',['Boavista youth', 'Boavistayouth']]\n",
    "replacementsliganos.append(boavista)\n",
    "\n",
    "marítimo=['CS Marítimo',['Marítimo','Marítimo youth', 'Marítimoyouth']]\n",
    "replacementsliganos.append(marítimo)\n",
    "\n",
    "farense=['SC Farense',['Farense', 'Farense youth']]\n",
    "replacementsliganos.append(farense)\n",
    "\n",
    "belenenses=['CF Belenenses',['Belenenses SAD', 'Belenenses youth']]\n",
    "replacementsliganos.append(belenenses)\n",
    "\n",
    "gilvicente=['Gil Vicente FC',['Gil Vicente', 'Gil Vicente youth']]\n",
    "replacementsliganos.append(gilvicente)\n",
    "\n",
    "beiramar=['CSC Beira-Mar',['Beira-Mar', 'Beira-Mar youth']]\n",
    "replacementsliganos.append(beiramar)\n",
    "\n",
    "paços=['FC Paços de Ferreira',['Paços Ferreira','Paços F. youth', 'Paços F.youth', 'Paços de F. youth']]\n",
    "replacementsliganos.append(paços)\n",
    "\n",
    "guimarães=['Vitória Guimarães SC',['Guimarães youth', 'Guimarãesyouth', 'Vit. Guimarães']]\n",
    "replacementsliganos.append(guimarães)\n",
    "\n",
    "salgueiros=['SC Salgueiros',['Salgueiros', 'Salgueiros 08', 'Salgueiros youth']]\n",
    "replacementsliganos.append(salgueiros)\n",
    "\n",
    "tirsense=['FC Tirsense',['Tirsense']]\n",
    "replacementsliganos.append(tirsense)\n",
    "\n",
    "espinho=['SC Espinho',['Espinho']]\n",
    "replacementsliganos.append(espinho)\n",
    "\n",
    "chaves=['GD Chaves',['Chaves', 'Chaves youth', 'Chavesyouth']]\n",
    "replacementsliganos.append(chaves)\n",
    "\n",
    "vitóriasetúbal=['Vitória Setúbal FC',['Vitória Setúbal', 'Setúbal youth', 'Setúbalyouth']]\n",
    "replacementsliganos.append(vitóriasetúbal)\n",
    "\n",
    "amadora=['CF Estrela Amadora SAD',['E. Amadora youth', 'Estrela Amadora']]\n",
    "replacementsliganos.append(amadora)\n",
    "\n",
    "leiria=['União de Leiria',['Leiria', 'Leiria Sub-17', 'Leiria youth']]\n",
    "replacementsliganos.append(leiria)\n",
    "\n",
    "madeira=['CF União Madeira',['U. Madeira youth', 'União Madeira']]\n",
    "replacementsliganos.append(madeira)\n",
    "\n",
    "leça=['Leça FC',['Leça']]\n",
    "replacementsliganos.append(leça)\n",
    "\n",
    "felgueiras=['FC Felgueiras 1932',['Felgueiras']]\n",
    "replacementsliganos.append(felgueiras)\n",
    "\n",
    "campomaiorense=['SC Campomaiorense',['Campomaiorense']]\n",
    "replacementsliganos.append(campomaiorense)\n",
    "\n",
    "rioave=['Rio Ave FC',['Rio Ave FC youth', 'Rio Ave youth', 'Rio Aveyouth']]\n",
    "replacementsliganos.append(rioave)\n",
    "\n",
    "coimbra=['União Coimbra',['Coimbra', 'Coimbrayouth', 'youthmica Coimbra']]\n",
    "replacementsliganos.append(coimbra)\n",
    "\n",
    "varzim=['varzim',['Varzim','Varzim SCyouth', 'Varzim youth']]\n",
    "replacementsliganos.append(varzim)\n",
    "\n",
    "alverca=['FC Alverca',['Alverca', 'Alverca youth']]\n",
    "replacementsliganos.append(alverca)\n",
    "\n",
    "clara=['CD Santa Clara',['Santa Clara', 'Santa Clara youth']]\n",
    "replacementsliganos.append(clara)\n",
    "\n",
    "aves=['Desportivo Aves',['Aves youth','Avesyouth']]\n",
    "replacementsliganos.append(aves)\n",
    "\n",
    "nacional=['CD Nacional',['Nacional','Nacional youth']]\n",
    "replacementsliganos.append(nacional)\n",
    "\n",
    "moreirense=['Moreirense FC',['Moreirense','Moreirense youth']]\n",
    "replacementsliganos.append(moreirense)\n",
    "\n",
    "penafiel=['FC Penafiel',['Penafiel', 'Penafiel youth']]\n",
    "replacementsliganos.append(penafiel)\n",
    "\n",
    "leixões=['Leixões SC',['Leixões', 'Leixões youth']]\n",
    "replacementsliganos.append(leixões)\n",
    "\n",
    "trofense=['CD Trofense',['Trofense']]\n",
    "replacementsliganos.append(trofense)\n",
    "\n",
    "olhanense=['SC Olhanense',['Olhanense', 'Olhanense youth']]\n",
    "replacementsliganos.append(olhanense)\n",
    "\n",
    "portimonense=['Portimonense SC',['Portimonense','Portimonense 23', 'Portimonense Futebol SAD']]\n",
    "replacementsliganos.append(portimonense)\n",
    "\n",
    "feirense=['CD Feirense',['Feirense', 'Feirense Sub-23', 'Feirense youth']]\n",
    "replacementsliganos.append(feirense)\n",
    "\n",
    "arouca=['FC Arouca',['Arouca', 'Arouca youth']]\n",
    "replacementsliganos.append(arouca)\n",
    "\n",
    "tondela=['CD Tondela',['Tondela', 'Tondela Sub-23', 'Tondela youth']]\n",
    "replacementsliganos.append(tondela)\n",
    "\n",
    "vizela=['FC Vizela',['FC Vizela youth', 'Vizela', 'Vizela Y19']]\n",
    "replacementsliganos.append(vizela)"
   ]
  },
  {
   "cell_type": "code",
   "execution_count": null,
   "metadata": {
    "id": "CAg511YOX-YO"
   },
   "outputs": [],
   "source": [
    "#Replace the names\n",
    "for i in replacementsliganos:\n",
    "    for k in i[1]:\n",
    "        df['club_to'] = df['club_to'].replace(str(k), str(i[0]))\n",
    "        df['club_from'] = df['club_from'].replace(str(k), str(i[0]))"
   ]
  },
  {
   "cell_type": "code",
   "execution_count": null,
   "metadata": {},
   "outputs": [],
   "source": [
    "league_pt = {i[0]: \"Liga Nos\" for i in replacementsliganos}"
   ]
  },
  {
   "cell_type": "markdown",
   "metadata": {},
   "source": [
    "### Clean League names"
   ]
  },
  {
   "cell_type": "code",
   "execution_count": null,
   "metadata": {},
   "outputs": [],
   "source": [
    "league_map = {}\n",
    "league_map.update(league_fr)\n",
    "league_map.update(league_nl)\n",
    "league_map.update(league_es)\n",
    "league_map.update(league_en)\n",
    "league_map.update(league_en_2)\n",
    "league_map.update(league_it)\n",
    "league_map.update(league_de)\n",
    "league_map.update(league_pt)"
   ]
  },
  {
   "cell_type": "code",
   "execution_count": null,
   "metadata": {},
   "outputs": [],
   "source": [
    "df[\"league_from\"] = df[\"club_from\"].apply(lambda x: league_map[x] if x in league_map.keys() else \"Other\")\n",
    "df[\"league_to\"] = df[\"club_to\"].apply(lambda x: league_map[x] if x in league_map.keys() else \"Other\")"
   ]
  },
  {
   "cell_type": "code",
   "execution_count": null,
   "metadata": {},
   "outputs": [],
   "source": [
    "df.drop_duplicates(subset=[\"player_name\", \"age\", \"club_from\"], inplace=True)\n",
    "df.reset_index(drop=True, inplace=True)"
   ]
  },
  {
   "cell_type": "code",
   "execution_count": null,
   "metadata": {},
   "outputs": [],
   "source": [
    "df.to_csv(\"leagues_cleaned.csv\", index = False)"
   ]
  },
  {
   "cell_type": "markdown",
   "metadata": {},
   "source": [
    "# Network Analysis"
   ]
  },
  {
   "cell_type": "code",
   "execution_count": null,
   "metadata": {},
   "outputs": [],
   "source": [
    "# Get saved DataFrame\n",
    "#df = pd.read_csv(\"leagues_cleaned.csv\")\n",
    "\n",
    "# Change all English clubs to Premier League and exclude uncleaned leagues from analysis\n",
    "df.loc[(df['league_from'] == \"Championship\") , 'league_from'] = \"Premier League\"\n",
    "df.loc[(df['league_to'] == \"Championship\"), 'league_to'] = \"Premier League\"\n",
    "df = df[(df[\"league_from\"] != \"Other\") & (df[\"league_to\"] != \"Other\")]\n",
    "\n",
    "# Create dfs for each decade\n",
    "df_92_02 = df[(df[\"year\"] <= 2002)]\n",
    "df_03_12 = df[(df[\"year\"] > 2002) & (df[\"year\"] <= 2012)]\n",
    "df_13_today = df[(df[\"year\"] > 2012) & (df[\"year\"] <= 2022)]"
   ]
  },
  {
   "cell_type": "code",
   "execution_count": null,
   "metadata": {},
   "outputs": [],
   "source": [
    "# Define functions\n",
    "def group_league_combinations(df_):\n",
    "    df_grouped = df_.groupby([\"league_from\", \"league_to\"]).size().reset_index()\n",
    "    df_grouped.columns = ['league_from', 'league_to', \"count\"]\n",
    "    return df_grouped\n",
    "\n",
    "def group_league_combinations_fees(df_):\n",
    "    df_grouped = df_.groupby([\"league_from\", \"league_to\"]).sum().reset_index()\n",
    "    df_grouped.columns = ['league_from', 'league_to', 'age', 'count', 'year']\n",
    "    return df_grouped\n",
    "\n",
    "def node_sizes_and_colors(nodes, leagues_within, size_multiplier):\n",
    "    color_map = []\n",
    "    node_sizes = []\n",
    "    \n",
    "    for league in nodes:\n",
    "        if league == \"Premier League\":\n",
    "                node_sizes.append(leagues_within.loc[leagues_within['league_from'] == league, 'count'].item() * size_multiplier)\n",
    "                color_map.append(\"lightgreen\")\n",
    "        elif league == \"Serie A\":\n",
    "            node_sizes.append(leagues_within.loc[leagues_within['league_from'] == league, 'count'].item() * size_multiplier)\n",
    "            color_map.append(\"lightblue\")\n",
    "        elif league == \"1 Bundesliga\":\n",
    "            node_sizes.append(leagues_within.loc[leagues_within['league_from'] == league, 'count'].item() * size_multiplier)\n",
    "            color_map.append(\"red\")\n",
    "        elif league == \"Ligue 1\":\n",
    "            node_sizes.append(leagues_within.loc[leagues_within['league_from'] == league, 'count'].item() * size_multiplier)\n",
    "            color_map.append(\"green\")\n",
    "        elif league == \"Primera Division\":\n",
    "            node_sizes.append(leagues_within.loc[leagues_within['league_from'] == league, 'count'].item() * size_multiplier)\n",
    "            color_map.append(\"yellow\")\n",
    "        elif league == \"Liga Nos\":\n",
    "            node_sizes.append(leagues_within.loc[leagues_within['league_from'] == league, 'count'].item() * size_multiplier)\n",
    "            color_map.append(\"turquoise\")\n",
    "        elif league == \"Eredivisie\":\n",
    "            node_sizes.append(leagues_within.loc[leagues_within['league_from'] == league, 'count'].item() * size_multiplier)\n",
    "            color_map.append(\"grey\")\n",
    "    return color_map, node_sizes"
   ]
  },
  {
   "cell_type": "markdown",
   "metadata": {},
   "source": [
    "### Research Question 1: Interactions Between Leagues"
   ]
  },
  {
   "cell_type": "markdown",
   "metadata": {},
   "source": [
    "#### 1.1.1 Total"
   ]
  },
  {
   "cell_type": "code",
   "execution_count": null,
   "metadata": {},
   "outputs": [],
   "source": [
    "# Create dictionary containing DataFrames for each decade\n",
    "dfs = {\"Transfers Overall\": df,\n",
    "       \"Transfers 1992 - 2002\": df_92_02,\n",
    "       \"Transfers 2003 - 2012\": df_03_12,\n",
    "       \"Transfers 2013 - 2021\": df_13_today}\n",
    "\n",
    "# Loop through dictionary and create graphs for all three decades\n",
    "for name, df_ in dfs.items():\n",
    "    # Reduce df to leagues\n",
    "    df_grouped = group_league_combinations(df_)\n",
    "    leagues_within = df_grouped[(df_grouped[\"league_from\"] == df_grouped[\"league_to\"])]\n",
    "    leagues_between = df_grouped[(df_grouped[\"league_from\"] != df_grouped[\"league_to\"])]\n",
    "    \n",
    "    # Create graph\n",
    "    G = nx.convert_matrix.from_pandas_edgelist(leagues_between, source = \"league_from\", target = \"league_to\", edge_attr = \"count\", create_using = nx.Graph())\n",
    "    coords = nx.kamada_kawai_layout(G)\n",
    "    edges = G.edges()\n",
    "    nodes = G.nodes()\n",
    "\n",
    "    # Loop through nodes and create colour and width of edges in accordance with number of transfers\n",
    "    weights = [G[u][v]['count'] / 15 for u, v in edges]\n",
    "    color_map, node_sizes = node_sizes_and_colors(nodes, leagues_within, 5)\n",
    "\n",
    "    # Draw the graph and save it\n",
    "    plt.figure(figsize = (25, 15))\n",
    "    plt.title(name, fontdict = {'fontsize': 50})\n",
    "    nx.draw(G, node_color = color_map, width = weights, with_labels = True, node_size = node_sizes,\n",
    "            pos = coords, arrows = False, font_size = 15, edge_color = weights,\n",
    "            edge_cmap = plt.cm.Blues)\n",
    "    plt.savefig(f'output/leagues/{name}.png')"
   ]
  },
  {
   "cell_type": "markdown",
   "metadata": {},
   "source": [
    "#### 1.1.2 In- and Outgoing"
   ]
  },
  {
   "cell_type": "code",
   "execution_count": null,
   "metadata": {},
   "outputs": [],
   "source": [
    "# Create dictionary containing DataFrames for each decade\n",
    "dfs = {\"Transfers Bidirectional Overall\": df,\n",
    "       \"Transfers Bidirectional 1992 - 2002\": df_92_02,\n",
    "       \"Transfers Bidirectional 2003 - 2012\": df_03_12,\n",
    "       \"Transfers Bidirectional 2013 - 2021\": df_13_today}\n",
    "\n",
    "# Loop through dictionary and create graphs for all three decades\n",
    "for name, df in dfs.items():\n",
    "    # Reduce df to leagues\n",
    "    df_grouped = group_league_combinations(df)\n",
    "    leagues_within = df_grouped[(df_grouped[\"league_from\"] == df_grouped[\"league_to\"])]\n",
    "    leagues_between = df_grouped[(df_grouped[\"league_from\"] != df_grouped[\"league_to\"])]\n",
    "    \n",
    "    # Create graph\n",
    "    G = nx.convert_matrix.from_pandas_edgelist(leagues_between, source = \"league_from\", target = \"league_to\", edge_attr = \"count\", create_using = nx.DiGraph())\n",
    "    coords = nx.kamada_kawai_layout(G)\n",
    "    \n",
    "    edges = G.edges()\n",
    "    nodes = G.nodes()\n",
    "\n",
    "    # Loop through nodes and create colour and width of edges in accordance with number of transfers\n",
    "    weights = [G[u][v]['count'] / 25 for u, v in edges]\n",
    "    color_map, node_sizes = node_sizes_and_colors(nodes, leagues_within, 4)\n",
    "\n",
    "    # Draw the graph and save it\n",
    "    plt.figure(figsize = (25, 15))\n",
    "    plt.title(name, fontdict = {'fontsize': 50})\n",
    "    nx.draw(G, node_color = color_map, width = weights, with_labels = True, node_size = node_sizes,\n",
    "            pos = coords, arrows = True, font_size = 15, edge_color = weights, edge_cmap = plt.cm.Blues,\n",
    "            connectionstyle = \"arc3, rad = 0.3\")\n",
    "    plt.savefig(f'output/leagues/{name}.png')"
   ]
  },
  {
   "cell_type": "markdown",
   "metadata": {},
   "source": [
    "### 1.2. Transfer Fees"
   ]
  },
  {
   "cell_type": "markdown",
   "metadata": {},
   "source": [
    "#### 1.2.1. Total"
   ]
  },
  {
   "cell_type": "code",
   "execution_count": null,
   "metadata": {},
   "outputs": [],
   "source": [
    "# Create dictionary containing DataFrames for each decade\n",
    "dfs = {\"Transfer Fees Overall\": df,\n",
    "       \"Transfer Fees 1992 - 2002\": df_92_02,\n",
    "       \"Transfer Fees 2003 - 2012\": df_03_12,\n",
    "       \"Transfer Fees 2013 - 2021\": df_13_today}\n",
    "\n",
    "# Loop through dictionary and create graphs for all three decades\n",
    "for name, df_ in dfs.items():\n",
    "    # Reduce df to leagues\n",
    "    df_grouped = group_league_combinations_fees(df_)\n",
    "    leagues_within = df_grouped[(df_grouped[\"league_from\"] == df_grouped[\"league_to\"])]\n",
    "    leagues_between = df_grouped[(df_grouped[\"league_from\"] != df_grouped[\"league_to\"])]\n",
    "    \n",
    "    # Create graph\n",
    "    G = nx.convert_matrix.from_pandas_edgelist(leagues_between, source = \"league_from\", target = \"league_to\", edge_attr = \"count\", create_using = nx.Graph())\n",
    "    coords = nx.kamada_kawai_layout(G)\n",
    "    edges = G.edges()\n",
    "    nodes = G.nodes()\n",
    "\n",
    "    # Loop through nodes and create colour and width of edges in accordance with number of transfers\n",
    "    weights = [G[u][v]['count'] / 15 for u, v in edges]\n",
    "    color_map, node_sizes = node_sizes_and_colors(nodes, leagues_within, 15)\n",
    "\n",
    "    # Draw the graph and save it\n",
    "    plt.figure(figsize = (25, 15))\n",
    "    plt.title(name, fontdict = {'fontsize': 50})\n",
    "    nx.draw(G, node_color = color_map, width = weights, with_labels = True, node_size = node_sizes,\n",
    "            pos = coords, arrows = False, font_size = 15, edge_color = weights,\n",
    "            edge_cmap = plt.cm.Blues)\n",
    "    plt.savefig(f'output/leagues/{name}.png')"
   ]
  },
  {
   "cell_type": "markdown",
   "metadata": {},
   "source": [
    "#### 1.2.2. Transfer Fees In- and Outgoing"
   ]
  },
  {
   "cell_type": "code",
   "execution_count": null,
   "metadata": {},
   "outputs": [],
   "source": [
    "# Create dictionary containing DataFrames for each decade\n",
    "dfs = {\"Transfer Fees Bidirectional Overall\": df,\n",
    "       \"Transfer Fees Bidirectional 1992 - 2002\": df_92_02,\n",
    "       \"Transfer Fees Bidirectional 2003 - 2012\": df_03_12,\n",
    "       \"Transfer Fees Bidirectional 2013 - 2021\": df_13_today}\n",
    "\n",
    "# Loop through dictionary and create graphs for all three decades\n",
    "for name, df_ in dfs.items():\n",
    "    # Reduce df to leagues\n",
    "    df_grouped = group_league_combinations_fees(df_)\n",
    "    leagues_within = df_grouped[(df_grouped[\"league_from\"] == df_grouped[\"league_to\"])]\n",
    "    leagues_between = df_grouped[(df_grouped[\"league_from\"] != df_grouped[\"league_to\"])]\n",
    "    \n",
    "    # Create graph\n",
    "    G = nx.convert_matrix.from_pandas_edgelist(leagues_between, source = \"league_from\", target = \"league_to\", edge_attr = \"count\", create_using = nx.DiGraph())\n",
    "    coords = nx.kamada_kawai_layout(G)\n",
    "    \n",
    "    edges = G.edges()\n",
    "    nodes = G.nodes()\n",
    "\n",
    "    # Loop through nodes and create colour and width of edges in accordance with number of transfers\n",
    "    weights = [G[u][v]['count'] / 50 for u, v in edges]\n",
    "    color_map, node_sizes = node_sizes_and_colors(nodes, leagues_within, 10)\n",
    "\n",
    "    # Draw the graph and save it\n",
    "    plt.figure(figsize = (25, 15))\n",
    "    plt.title(name, fontdict = {'fontsize': 50})\n",
    "    nx.draw(G, node_color = color_map, width = weights, with_labels = True, node_size = node_sizes,\n",
    "            pos = coords, arrows = True, font_size = 15, edge_color = weights, edge_cmap = plt.cm.Blues,\n",
    "            connectionstyle = \"arc3, rad = 0.3\")\n",
    "    plt.savefig(f'output/leagues/{name}.png')"
   ]
  },
  {
   "cell_type": "markdown",
   "metadata": {},
   "source": [
    "### Research Question 2: Club clusters"
   ]
  },
  {
   "cell_type": "code",
   "execution_count": null,
   "metadata": {},
   "outputs": [],
   "source": [
    "df = pd.read_csv(\"leagues_cleaned.csv\")"
   ]
  },
  {
   "cell_type": "code",
   "execution_count": null,
   "metadata": {},
   "outputs": [],
   "source": [
    "dfclubsnational = df.copy()"
   ]
  },
  {
   "cell_type": "code",
   "execution_count": null,
   "metadata": {},
   "outputs": [],
   "source": [
    "dfclubsperyearnational = {\"1992 - 2002\": dfclubsnational[(dfclubsnational[\"year\"] <= 2002)],\n",
    "       \"2003 - 2012\": dfclubsnational[(dfclubsnational[\"year\"] > 2002) & (dfclubsnational[\"year\"] <= 2012)],\n",
    "       \"2013 - 2021\": dfclubsnational[(dfclubsnational[\"year\"] > 2012) & (dfclubsnational[\"year\"] <= 2022)]}"
   ]
  },
  {
   "cell_type": "code",
   "execution_count": null,
   "metadata": {},
   "outputs": [],
   "source": [
    "for name, dfclubsnational in dfclubsperyearnational.items():\n",
    "    dfclubnational = pd.DataFrame()\n",
    "    dfclubnational = dfclubsnational.groupby([\"club_from\", \"club_to\"])[[\"club_from\"]].count().dropna()\n",
    "    dfclubnational = dfclubnational.rename(columns={\"club_from\": \"num_transfers\"})\n",
    "    dfclubnational = dfclubnational.reset_index()\n",
    "    dfclubnational = dfclubnational[dfclubnational[\"club_from\"] != dfclubnational[\"club_to\"]]\n",
    "    dfclubnational = dfclubnational[dfclubnational[\"num_transfers\"] >= 15]\n",
    "    G=nx.from_pandas_edgelist(dfclubnational, 'club_from', 'club_to', edge_attr='num_transfers')\n",
    "    labels = [i for i in dict(G.nodes).keys()]\n",
    "    labels = {i:i for i in dict(G.nodes).keys()}\n",
    "    fig, ax = plt.subplots(figsize=(20,10))\n",
    "    pos = nx.spring_layout(G, k = 0.4)\n",
    "    nx.draw_networkx_nodes(G, pos, ax = ax, node_size = 100, node_color = 'red')\n",
    "    nx.draw_networkx_edges(G, pos, ax=ax, edge_color= 'red')\n",
    "    plt.title('Club interactions ' + str(name), fontdict = {'fontsize': 50})\n",
    "    _ = nx.draw_networkx_labels(G, pos, labels, ax=ax, font_size = 15, font_color = 'black')\n",
    "    plt.savefig(f'output/clubs/Clubs interactions {name}.png')\n",
    "\n",
    "    "
   ]
  },
  {
   "cell_type": "code",
   "execution_count": null,
   "metadata": {},
   "outputs": [],
   "source": [
    "dfclubsinternational = df.copy()"
   ]
  },
  {
   "cell_type": "code",
   "execution_count": null,
   "metadata": {},
   "outputs": [],
   "source": [
    "dfclubsperyearinternational = {\"1992 - 2002\": dfclubsinternational[(dfclubsinternational[\"year\"] <= 2002)],\n",
    "       \"2003 - 2012\": dfclubsinternational[(dfclubsinternational[\"year\"] > 2002) & (dfclubsinternational[\"year\"] <= 2012)],\n",
    "       \"2013 - 2021\": dfclubsinternational[(dfclubsinternational[\"year\"] > 2012) & (dfclubsinternational[\"year\"] <= 2022)]}"
   ]
  },
  {
   "cell_type": "code",
   "execution_count": null,
   "metadata": {},
   "outputs": [],
   "source": [
    "for name, dfclubsinternational in dfclubsperyearinternational.items():\n",
    "    dfclub = pd.DataFrame()\n",
    "    dfclub = dfclubsinternational[dfclubsinternational[\"league_from\"] != dfclubsinternational[\"league_to\"]]\n",
    "    dfclub = dfclub.groupby([\"club_from\", \"club_to\"])[[\"club_from\"]].count().dropna()\n",
    "    dfclub = dfclub.rename(columns={\"club_from\": \"num_transfers\"})\n",
    "    dfclub = dfclub.reset_index()\n",
    "    dfclub = dfclub[dfclub[\"club_from\"] != dfclub[\"club_to\"]]\n",
    "    dfclub = dfclub[dfclub[\"num_transfers\"] >= 7]\n",
    "    G=nx.from_pandas_edgelist(dfclub, 'club_from', 'club_to', edge_attr='num_transfers')\n",
    "    labels = [i for i in dict(G.nodes).keys()]\n",
    "    labels = {i:i for i in dict(G.nodes).keys()}\n",
    "    fig, ax = plt.subplots(figsize=(20,10))\n",
    "    pos = nx.spring_layout(G, k = 0.5)\n",
    "    nx.draw_networkx_nodes(G, pos, ax = ax, node_size = 100, node_color = 'red')\n",
    "    nx.draw_networkx_edges(G, pos, ax=ax, edge_color= 'red')\n",
    "    plt.title('Club interactions non-national ' + str(name), fontdict = {'fontsize': 50})\n",
    "    _ = nx.draw_networkx_labels(G, pos, labels, ax=ax, font_size = 20, font_color=\"black\")\n",
    "    plt.savefig(f'output/clubs/Clubs interactions non-national {name}.png')\n"
   ]
  },
  {
   "cell_type": "markdown",
   "metadata": {},
   "source": [
    "## Analysis of player development contribution on club level in specific leagues "
   ]
  },
  {
   "cell_type": "markdown",
   "metadata": {},
   "source": [
    "### Filter dataframe"
   ]
  },
  {
   "cell_type": "code",
   "execution_count": null,
   "metadata": {},
   "outputs": [],
   "source": [
    "# Filter league\n",
    "df = pd.read_csv(\"leagues_cleaned.csv\")\n",
    "df_bundesliga = df[df.league_to.isin([\"1 Bundesliga\"]) & df.league_from.isin([\"1 Bundesliga\"])]\n",
    "df_serieA = df[df.league_to.isin([\"Serie A\"]) & df.league_from.isin([\"Serie A\"])]\n",
    "df_prem = df[df.league_to.isin([\"Premier League\"]) & df.league_from.isin([\"Premier League\"])]"
   ]
  },
  {
   "cell_type": "code",
   "execution_count": null,
   "metadata": {},
   "outputs": [],
   "source": [
    "# filter year \n",
    "df_bund_1 = df_bundesliga[(df_bundesliga['year'] >= 1992) & (df_bundesliga['year'] <= 2002)]\n",
    "df_bund_2 = df_bundesliga[(df_bundesliga['year'] >= 2003) & (df_bundesliga['year'] <= 2012)]\n",
    "df_bund_3 = df_bundesliga[(df_bundesliga['year'] >= 2013) & (df_bundesliga['year'] <= 2021)]\n",
    "\n",
    "df_serie_1 = df_serieA[(df_serieA['year'] >= 1992) & (df_serieA['year'] <= 2002)]\n",
    "df_serie_2 = df_serieA[(df_serieA['year'] >= 2003) & (df_serieA['year'] <= 2012)]\n",
    "df_serie_3 = df_serieA[(df_serieA['year'] >= 2013) & (df_serieA['year'] <= 2021)]\n",
    "\n",
    "df_prem_1 = df_prem[(df_prem['year'] >= 1992) & (df_prem['year'] <= 2002)]\n",
    "df_prem_2 = df_prem[(df_prem['year'] >= 2003) & (df_prem['year'] <= 2012)]\n",
    "df_prem_3 = df_prem[(df_prem['year'] >= 2013) & (df_prem['year'] <= 2021)]"
   ]
  },
  {
   "cell_type": "code",
   "execution_count": null,
   "metadata": {},
   "outputs": [],
   "source": [
    "# filter age <= 19\n",
    "df_bund_age_1 = df_bund_1[(df_bund_1['age'] <= 19)]\n",
    "df_bund_age_2 = df_bund_2[(df_bund_2['age'] <= 19)]\n",
    "df_bund_age_3 = df_bund_3[(df_bund_3['age'] <= 19)]\n",
    "\n",
    "df_serie_age_1 = df_serie_1[(df_serie_1['age'] <= 19)]\n",
    "df_serie_age_2 = df_serie_2[(df_serie_2['age'] <= 19)]\n",
    "df_serie_age_3 = df_serie_3[(df_serie_3['age'] <= 19)]\n",
    "\n",
    "df_prem_age_1 = df_prem_1[(df_prem_1['age'] <= 19)]\n",
    "df_prem_age_2 = df_prem_2[(df_prem_2['age'] <= 19)]\n",
    "df_prem_age_3 = df_prem_3[(df_prem_3['age'] <= 19)]"
   ]
  },
  {
   "cell_type": "code",
   "execution_count": null,
   "metadata": {},
   "outputs": [],
   "source": [
    "# filter age >= 20 age <= 24\n",
    "df_bund_age_4 = df_bund_1[(df_bund_1['age'] >= 20) & (df_bund_1['age'] <= 24)]\n",
    "df_bund_age_5 = df_bund_2[(df_bund_2['age'] >= 20) & (df_bund_2['age'] <= 24)]\n",
    "df_bund_age_6 = df_bund_3[(df_bund_3['age'] >= 20) & (df_bund_3['age'] <= 24)]\n",
    "\n",
    "df_serie_age_4 = df_serie_1[(df_serie_1['age'] >= 20) & (df_serie_1['age'] <= 24)]\n",
    "df_serie_age_5 = df_serie_2[(df_serie_2['age'] >= 20) & (df_serie_2['age'] <= 24)]\n",
    "df_serie_age_6 = df_serie_3[(df_serie_3['age'] >= 20) & (df_serie_3['age'] <= 24)]\n",
    "\n",
    "df_prem_age_4 = df_prem_1[(df_prem_1['age'] >= 20) & (df_prem_1['age'] <= 24)]\n",
    "df_prem_age_5 = df_prem_2[(df_prem_2['age'] >= 20) & (df_prem_2['age'] <= 24)]\n",
    "df_prem_age_6 = df_prem_3[(df_prem_3['age'] >= 20) & (df_prem_3['age'] <= 24)]"
   ]
  },
  {
   "cell_type": "markdown",
   "metadata": {},
   "source": [
    "### Create Network for the Bundesliga with the out_degree of the nodes"
   ]
  },
  {
   "cell_type": "code",
   "execution_count": null,
   "metadata": {},
   "outputs": [],
   "source": [
    "#coords = nx.spring_layout(net_bundesliga_age,scale=0.5, k=1,seed=675)\n",
    "df_list = [df_bund_age_4,df_bund_age_5,df_bund_age_6]\n",
    "\n",
    "plot_titles = [\"Traded players in the Bundesliga (out_degree) \\n aged between 20 and 24 years for the Season 1992 - 2002\",\n",
    "               \"Traded players in the Bundesliga (out_degree) \\n aged between 20 and 24 years for the Season 2003 - 2012\",\n",
    "               \"Traded players in the Bundesliga (out_degree) \\n aged between 20 and 24 years for the Season 2013 - 2021\"]\n",
    "\n",
    "file_names = [\"bund_outdegree_2002\",\"bund_outdegree_2012\",\"bund_outdegree_2021\"]\n",
    "#subplot = 1\n",
    "#figure = plt.figure(figsize=(35, 17))\n",
    "\n",
    "i = 0\n",
    "\n",
    "for d in df_list:\n",
    "    \n",
    "    #plt.subplot(1, 2, subplot) \n",
    "    plot_title = plot_titles[i]\n",
    "    figure = plt.figure(figsize=(18, 23))\n",
    "    plt.title(plot_title,fontsize = 20,fontweight=800)\n",
    "    \n",
    "    d = d\n",
    "    G = nx.DiGraph()\n",
    "    \n",
    "    # add edges to empty graph\n",
    "    G.add_edges_from(list(zip(d.club_from,d.club_to)))\n",
    "    \n",
    "    coords = nx.kamada_kawai_layout(G)\n",
    "    G.remove_edges_from(nx.selfloop_edges(G))\n",
    "    \n",
    "    plot_title = plot_titles[i]\n",
    "\n",
    "    #plt.title(\"Traded players in the Bundesliga (out_degree) \\n aged between 20 and 24 years for the Season 2013 - 2021\",fontsize = 20,fontweight=800)\n",
    "    nx.draw(\n",
    "        G, \n",
    "        pos = coords,\n",
    "        with_labels = True,\n",
    "        node_size = [degree * 100 for degree in dict(G.out_degree).values()],\n",
    "        verticalalignment='center',\n",
    "        horizontalalignment = \"center\",\n",
    "        arrowsize=10,\n",
    "        cmap=\"RdYlBu_r\",\n",
    "        node_color = [degree for degree in dict(G.out_degree).values()],\n",
    "        edge_color = \"lightgray\"\n",
    "    )\n",
    "\n",
    "    max_color = (max(dict(G.out_degree).values())) + 3\n",
    "    sm = plt.cm.ScalarMappable(cmap=\"RdYlBu_r\",norm=plt.Normalize(vmin=0, vmax=max_color))\n",
    "    cbar = plt.colorbar(sm,shrink=0.4,orientation=\"horizontal\",pad=0.001)\n",
    "    cbar.set_label('Out_Degree of Nodes')\n",
    "    \n",
    "    file_name  = file_names[i]\n",
    "    plt.savefig(f\"output/youth/{file_name}.png\")\n",
    "    i = i + 1\n",
    "#figure.tight_layout(pad=0)"
   ]
  },
  {
   "cell_type": "markdown",
   "metadata": {},
   "source": [
    "### Create Network for the Bundesliga with the in_degree of the nodes"
   ]
  },
  {
   "cell_type": "code",
   "execution_count": null,
   "metadata": {},
   "outputs": [],
   "source": [
    "df_list = [df_bund_age_1,df_bund_age_2,df_bund_age_3]\n",
    "\n",
    "plot_titles = [\"Traded players in the Bundesliga (in_degree) \\n aged up to 19 years for the Season 1992 - 2002\",\n",
    "               \"Traded players in the Bundesliga (in_degree) \\n aged up to 19 years for the Season 2003 - 2012\",\n",
    "               \"Traded players in the Bundesliga (in_degree) \\n aged up to 19 years for the Season 2013 - 2021\"]\n",
    "\n",
    "file_names = [\"bund_indegree_2002\",\"bund_indegree_2012\",\"bund_indegree_2021\"]\n",
    "#subplot = 1\n",
    "#figure = plt.figure(figsize=(35, 17))\n",
    "\n",
    "i = 0\n",
    "\n",
    "for d in df_list:\n",
    "    \n",
    "    #plt.subplot(1, 2, subplot) \n",
    "    plot_title = plot_titles[i]\n",
    "    figure = plt.figure(figsize=(20, 23))\n",
    "    plt.title(plot_title,fontsize = 20,fontweight=800)\n",
    "    \n",
    "    d = d\n",
    "    G = nx.DiGraph()\n",
    "    \n",
    "    # add edges to empty graph\n",
    "    G.add_edges_from(list(zip(d.club_from,d.club_to)))\n",
    "    \n",
    "    coords = nx.kamada_kawai_layout(G)\n",
    "    G.remove_edges_from(nx.selfloop_edges(G))\n",
    "    \n",
    "    plot_title = plot_titles[i]\n",
    "\n",
    "    #plt.title(\"Traded players in the Bundesliga (out_degree) \\n aged between 20 and 24 years for the Season 2013 - 2021\",fontsize = 20,fontweight=800)\n",
    "    nx.draw(\n",
    "        G, \n",
    "        pos = coords,\n",
    "        with_labels = True,\n",
    "        node_size = [degree * 300 for degree in dict(G.in_degree).values()],\n",
    "        verticalalignment='center',\n",
    "        horizontalalignment = \"center\",\n",
    "        arrowsize=10,\n",
    "        cmap=\"RdYlBu_r\",\n",
    "        node_color = [degree for degree in dict(G.in_degree).values()],\n",
    "        edge_color = \"lightgray\"\n",
    "    )\n",
    "\n",
    "    max_color = (max(dict(G.in_degree).values())) + 4\n",
    "    sm = plt.cm.ScalarMappable(cmap=\"RdYlBu_r\",norm=plt.Normalize(vmin=0, vmax=max_color))\n",
    "    cbar = plt.colorbar(sm,shrink=0.4,orientation=\"horizontal\",pad=0.001)\n",
    "    cbar.set_label('In_Degree of Nodes')\n",
    "    \n",
    "    file_name  = file_names[i]\n",
    "    plt.savefig(f\"output/youth/{file_name}.png\")\n",
    "    i = i + 1\n",
    "#figure.tight_layout(pad=0)"
   ]
  },
  {
   "cell_type": "markdown",
   "metadata": {},
   "source": [
    "### Create Network for the Serie A with the out_degree of the nodes"
   ]
  },
  {
   "cell_type": "code",
   "execution_count": null,
   "metadata": {},
   "outputs": [],
   "source": [
    "df_list = [df_serie_age_4,df_serie_age_5,df_serie_age_6]\n",
    "\n",
    "plot_titles = [\"Traded players in the Serie A (out_degree) \\n aged between 20 and 24 years for the Season 1992 - 2002\",\n",
    "               \"Traded players in the Serie A (out_degree) \\n aged between 20 and 24 years for the Season 2003 - 2012\",\n",
    "               \"Traded players in the Serie A (out_degree) \\n aged between 20 and 24 years for the Season 2013 - 2021\"]\n",
    "\n",
    "file_names = [\"serie_outdegree_2002\",\"serie_outdegree_2012\",\"serie_outdegree_2021\"]\n",
    "\n",
    "i = 0\n",
    "for d in df_list:\n",
    "    \n",
    "    plot_title = plot_titles[i]\n",
    "    figure = plt.figure(figsize=(18, 23))\n",
    "    plt.title(plot_title,fontsize = 20,fontweight=800)\n",
    "    \n",
    "    d = d\n",
    "    G = nx.DiGraph()\n",
    "    \n",
    "    # add edges to empty graph\n",
    "    G.add_edges_from(list(zip(d.club_from,d.club_to)))\n",
    "    \n",
    "    coords = nx.kamada_kawai_layout(G)\n",
    "    G.remove_edges_from(nx.selfloop_edges(G))\n",
    "    \n",
    "    plot_title = plot_titles[i]\n",
    "    \n",
    "    nx.draw(\n",
    "        G, \n",
    "        pos = coords,\n",
    "        with_labels = True,\n",
    "        node_size = [degree * 100 for degree in dict(G.out_degree).values()],\n",
    "        verticalalignment='center',\n",
    "        horizontalalignment = \"center\",\n",
    "        arrowsize=10,\n",
    "        cmap=\"RdYlBu_r\",\n",
    "        node_color = [degree for degree in dict(G.out_degree).values()],\n",
    "        edge_color = \"lightgray\"\n",
    "    )\n",
    "\n",
    "    max_color = (max(dict(G.out_degree).values())) + 3\n",
    "    sm = plt.cm.ScalarMappable(cmap=\"RdYlBu_r\",norm=plt.Normalize(vmin=0, vmax=max_color))\n",
    "    cbar = plt.colorbar(sm,shrink=0.4,orientation=\"horizontal\",pad=0.001)\n",
    "    cbar.set_label('Out_Degree of Nodes')\n",
    "    \n",
    "    file_name  = file_names[i]\n",
    "    plt.savefig(f\"output/youth/{file_name}.png\")\n",
    "    i = i + 1"
   ]
  },
  {
   "cell_type": "markdown",
   "metadata": {},
   "source": [
    "### Create Network for the Serie A with the in_degree of the nodes"
   ]
  },
  {
   "cell_type": "code",
   "execution_count": null,
   "metadata": {},
   "outputs": [],
   "source": [
    "df_list = [df_serie_age_1,df_serie_age_2,df_serie_age_3]\n",
    "\n",
    "plot_titles = [\"Traded players in the Serie A (in_degree) \\n aged up to 19 years for the Season 1992 - 2002\",\n",
    "               \"Traded players in the Serie A (in_degree) \\n aged up to 19 years for the Season 2003 - 2012\",\n",
    "               \"Traded players in the Serie A (in_degree) \\n aged up to 19 years for the Season 2013 - 2021\"]\n",
    "\n",
    "file_names = [\"serie_indegree_2002\",\"serie_indegree_2012\",\"serie_indegree_2021\"]\n",
    "\n",
    "i = 0\n",
    "for d in df_list:\n",
    "    \n",
    "    plot_title = plot_titles[i]\n",
    "    figure = plt.figure(figsize=(18, 23))\n",
    "    plt.title(plot_title,fontsize = 20,fontweight=800)\n",
    "    \n",
    "    d = d\n",
    "    G = nx.DiGraph()\n",
    "    \n",
    "    # add edges to empty graph\n",
    "    G.add_edges_from(list(zip(d.club_from,d.club_to)))\n",
    "    \n",
    "    coords = nx.kamada_kawai_layout(G)\n",
    "    G.remove_edges_from(nx.selfloop_edges(G))\n",
    "    \n",
    "    plot_title = plot_titles[i]\n",
    "\n",
    "    nx.draw(\n",
    "        G, \n",
    "        pos = coords,\n",
    "        with_labels = True,\n",
    "        node_size = [degree * 300 for degree in dict(G.in_degree).values()],\n",
    "        verticalalignment='center',\n",
    "        horizontalalignment = \"center\",\n",
    "        arrowsize=10,\n",
    "        cmap=\"RdYlBu_r\",\n",
    "        node_color = [degree for degree in dict(G.in_degree).values()],\n",
    "        edge_color = \"lightgray\"\n",
    "    )\n",
    "\n",
    "    max_color = (max(dict(G.in_degree).values())) + 4\n",
    "    sm = plt.cm.ScalarMappable(cmap=\"RdYlBu_r\",norm=plt.Normalize(vmin=0, vmax=max_color))\n",
    "    cbar = plt.colorbar(sm,shrink=0.4,orientation=\"horizontal\",pad=0.001)\n",
    "    cbar.set_label('In_Degree of Nodes')\n",
    "    \n",
    "    file_name  = file_names[i]\n",
    "    plt.savefig(f\"output/youth/{file_name}.png\")\n",
    "    i = i + 1"
   ]
  },
  {
   "cell_type": "markdown",
   "metadata": {},
   "source": [
    "### Create Network for the Premier League with the out_degree of the nodes"
   ]
  },
  {
   "cell_type": "code",
   "execution_count": null,
   "metadata": {},
   "outputs": [],
   "source": [
    "df_list = [df_prem_age_4,df_prem_age_5,df_prem_age_6]\n",
    "\n",
    "plot_titles = [\"Traded players in the Premier League (out_degree) \\n aged between 20 and 24 years for the Season 1992 - 2002\",\n",
    "               \"Traded players in the Premier League (out_degree) \\n aged between 20 and 24 years for the Season 2003 - 2012\",\n",
    "               \"Traded players in the Premier League (out_degree) \\n aged between 20 and 24 years for the Season 2013 - 2021\"]\n",
    "\n",
    "file_names = [\"prem_outdegree_2002\",\"prem_outdegree_2012\",\"prem_outdegree_2021\"]\n",
    "\n",
    "i = 0\n",
    "for d in df_list:\n",
    "    \n",
    "    plot_title = plot_titles[i]\n",
    "    figure = plt.figure(figsize=(18, 23))\n",
    "    plt.title(plot_title,fontsize = 20,fontweight=800)\n",
    "    \n",
    "    d = d\n",
    "    G = nx.DiGraph()\n",
    "    \n",
    "    # add edges to empty graph\n",
    "    G.add_edges_from(list(zip(d.club_from,d.club_to)))\n",
    "    \n",
    "    coords = nx.kamada_kawai_layout(G)\n",
    "    G.remove_edges_from(nx.selfloop_edges(G))\n",
    "    \n",
    "    plot_title = plot_titles[i]\n",
    "    \n",
    "    nx.draw(\n",
    "        G, \n",
    "        pos = coords,\n",
    "        with_labels = True,\n",
    "        node_size = [degree * 100 for degree in dict(G.out_degree).values()],\n",
    "        verticalalignment='center',\n",
    "        horizontalalignment = \"center\",\n",
    "        arrowsize=10,\n",
    "        cmap=\"RdYlBu_r\",\n",
    "        node_color = [degree for degree in dict(G.out_degree).values()],\n",
    "        edge_color = \"lightgray\"\n",
    "    )\n",
    "\n",
    "    max_color = (max(dict(G.out_degree).values())) + 3\n",
    "    sm = plt.cm.ScalarMappable(cmap=\"RdYlBu_r\",norm=plt.Normalize(vmin=0, vmax=max_color))\n",
    "    cbar = plt.colorbar(sm,shrink=0.4,orientation=\"horizontal\",pad=0.001)\n",
    "    cbar.set_label('Out_Degree of Nodes')\n",
    "    \n",
    "    file_name  = file_names[i]\n",
    "    plt.savefig(f\"output/youth/{file_name}.png\")\n",
    "    i = i + 1"
   ]
  },
  {
   "cell_type": "markdown",
   "metadata": {},
   "source": [
    "### Create Network for the Premier League with the in_degree of the nodes"
   ]
  },
  {
   "cell_type": "code",
   "execution_count": null,
   "metadata": {},
   "outputs": [],
   "source": [
    "df_list = [df_prem_age_1,df_prem_age_2,df_prem_age_3]\n",
    "\n",
    "plot_titles = [\"Traded players in the Premier League (in_degree) \\n aged up to 19 years for the Season 1992 - 2002\",\n",
    "               \"Traded players in the Premier League (in_degree) \\n aged up to 19 years for the Season 2003 - 2012\",\n",
    "               \"Traded players in the Premier League (in_degree) \\n aged up to 19 years for the Season 2013 - 2021\"]\n",
    "\n",
    "file_names = [\"prem_indegree_2002\",\"prem_indegree_2012\",\"prem_indegree_2021\"]\n",
    "\n",
    "i = 0\n",
    "for d in df_list:\n",
    "    \n",
    "    plot_title = plot_titles[i]\n",
    "    figure = plt.figure(figsize=(18, 23))\n",
    "    plt.title(plot_title,fontsize = 20,fontweight=800)\n",
    "    \n",
    "    d = d\n",
    "    G = nx.DiGraph()\n",
    "    \n",
    "    # add edges to empty graph\n",
    "    G.add_edges_from(list(zip(d.club_from,d.club_to)))\n",
    "    \n",
    "    coords = nx.kamada_kawai_layout(G)\n",
    "    G.remove_edges_from(nx.selfloop_edges(G))\n",
    "    \n",
    "    plot_title = plot_titles[i]\n",
    "\n",
    "    nx.draw(\n",
    "        G, \n",
    "        pos = coords,\n",
    "        with_labels = True,\n",
    "        node_size = [degree * 300 for degree in dict(G.in_degree).values()],\n",
    "        verticalalignment='center',\n",
    "        horizontalalignment = \"center\",\n",
    "        arrowsize=10,\n",
    "        cmap=\"RdYlBu_r\",\n",
    "        node_color = [degree for degree in dict(G.in_degree).values()],\n",
    "        edge_color = \"lightgray\"\n",
    "    )\n",
    "\n",
    "    max_color = (max(dict(G.in_degree).values())) + 4\n",
    "    sm = plt.cm.ScalarMappable(cmap=\"RdYlBu_r\",norm=plt.Normalize(vmin=0, vmax=max_color))\n",
    "    cbar = plt.colorbar(sm,shrink=0.4,orientation=\"horizontal\",pad=0.001)\n",
    "    cbar.set_label('In_Degree of Nodes')\n",
    "    \n",
    "    file_name  = file_names[i]\n",
    "    plt.savefig(f\"output/youth/{file_name}.png\")\n",
    "    i = i + 1"
   ]
  },
  {
   "cell_type": "code",
   "execution_count": null,
   "metadata": {},
   "outputs": [],
   "source": []
  }
 ],
 "metadata": {
  "colab": {
   "name": "workbook.ipynb",
   "provenance": []
  },
  "interpreter": {
   "hash": "cec4d9dfaa79359c9fa7e4a755c19e8011f9c111a06d7d60c4a0cf2c04b5e697"
  },
  "kernelspec": {
   "display_name": "Python 3 (ipykernel)",
   "language": "python",
   "name": "python3"
  },
  "language_info": {
   "codemirror_mode": {
    "name": "ipython",
    "version": 3
   },
   "file_extension": ".py",
   "mimetype": "text/x-python",
   "name": "python",
   "nbconvert_exporter": "python",
   "pygments_lexer": "ipython3",
   "version": "3.9.7"
  },
  "toc": {
   "base_numbering": 1,
   "nav_menu": {},
   "number_sections": true,
   "sideBar": true,
   "skip_h1_title": false,
   "title_cell": "Table of Contents",
   "title_sidebar": "Contents",
   "toc_cell": false,
   "toc_position": {},
   "toc_section_display": true,
   "toc_window_display": false
  },
  "widgets": {
   "application/vnd.jupyter.widget-state+json": {
    "state": {},
    "version_major": 2,
    "version_minor": 0
   }
  }
 },
 "nbformat": 4,
 "nbformat_minor": 4
}
